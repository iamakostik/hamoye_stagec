{
 "cells": [
  {
   "cell_type": "code",
   "execution_count": 146,
   "id": "2cc55188",
   "metadata": {
    "ExecuteTime": {
     "end_time": "2022-03-06T12:35:02.776683Z",
     "start_time": "2022-03-06T12:35:02.754763Z"
    }
   },
   "outputs": [],
   "source": [
    "#import some libraries needed\n",
    "\n",
    "import numpy as np\n",
    "import pandas as pd\n",
    "import matplotlib.pyplot as plt\n",
    "import seaborn as sns\n",
    "from sklearn.metrics import roc_auc_score, roc_curve\n",
    "from sklearn.metrics import recall_score, accuracy_score, precision_score, \\\n",
    "f1_score, confusion_matrix, classification_report, roc_auc_score\n",
    "from sklearn.ensemble import GradientBoostingClassifier"
   ]
  },
  {
   "cell_type": "code",
   "execution_count": 72,
   "id": "a8143bee",
   "metadata": {
    "ExecuteTime": {
     "end_time": "2022-03-06T04:12:06.169904Z",
     "start_time": "2022-03-06T04:12:06.117029Z"
    }
   },
   "outputs": [],
   "source": [
    "#read the csv dataset\n",
    "\n",
    "df = pd.read_csv(\"Data_for_UCI_named.csv\")"
   ]
  },
  {
   "cell_type": "code",
   "execution_count": 73,
   "id": "7270371e",
   "metadata": {
    "ExecuteTime": {
     "end_time": "2022-03-06T04:12:07.456020Z",
     "start_time": "2022-03-06T04:12:07.444087Z"
    }
   },
   "outputs": [
    {
     "data": {
      "text/plain": [
       "tau1     0\n",
       "tau2     0\n",
       "tau3     0\n",
       "tau4     0\n",
       "p1       0\n",
       "p2       0\n",
       "p3       0\n",
       "p4       0\n",
       "g1       0\n",
       "g2       0\n",
       "g3       0\n",
       "g4       0\n",
       "stab     0\n",
       "stabf    0\n",
       "dtype: int64"
      ]
     },
     "execution_count": 73,
     "metadata": {},
     "output_type": "execute_result"
    }
   ],
   "source": [
    "df.isna().sum()"
   ]
  },
  {
   "cell_type": "code",
   "execution_count": 74,
   "id": "a2a95d5a",
   "metadata": {
    "ExecuteTime": {
     "end_time": "2022-03-06T04:12:09.181113Z",
     "start_time": "2022-03-06T04:12:09.173128Z"
    }
   },
   "outputs": [
    {
     "data": {
      "text/plain": [
       "(10000, 14)"
      ]
     },
     "execution_count": 74,
     "metadata": {},
     "output_type": "execute_result"
    }
   ],
   "source": [
    "df.shape"
   ]
  },
  {
   "cell_type": "code",
   "execution_count": 75,
   "id": "90bde2bb",
   "metadata": {
    "ExecuteTime": {
     "end_time": "2022-03-06T04:12:10.578752Z",
     "start_time": "2022-03-06T04:12:10.557809Z"
    }
   },
   "outputs": [
    {
     "data": {
      "text/plain": [
       "array(['unstable', 'stable'], dtype=object)"
      ]
     },
     "execution_count": 75,
     "metadata": {},
     "output_type": "execute_result"
    }
   ],
   "source": [
    "df.stabf.unique()"
   ]
  },
  {
   "cell_type": "code",
   "execution_count": 76,
   "id": "83f95cf6",
   "metadata": {
    "ExecuteTime": {
     "end_time": "2022-03-06T04:12:19.575386Z",
     "start_time": "2022-03-06T04:12:19.562420Z"
    }
   },
   "outputs": [],
   "source": [
    "#dropping stab variable\n",
    "\n",
    "df = df.drop(columns=[\"stab\"])"
   ]
  },
  {
   "cell_type": "code",
   "execution_count": 77,
   "id": "8dc3cbeb",
   "metadata": {
    "ExecuteTime": {
     "end_time": "2022-03-06T04:12:20.723360Z",
     "start_time": "2022-03-06T04:12:20.698393Z"
    }
   },
   "outputs": [
    {
     "data": {
      "text/html": [
       "<div>\n",
       "<style scoped>\n",
       "    .dataframe tbody tr th:only-of-type {\n",
       "        vertical-align: middle;\n",
       "    }\n",
       "\n",
       "    .dataframe tbody tr th {\n",
       "        vertical-align: top;\n",
       "    }\n",
       "\n",
       "    .dataframe thead th {\n",
       "        text-align: right;\n",
       "    }\n",
       "</style>\n",
       "<table border=\"1\" class=\"dataframe\">\n",
       "  <thead>\n",
       "    <tr style=\"text-align: right;\">\n",
       "      <th></th>\n",
       "      <th>tau1</th>\n",
       "      <th>tau2</th>\n",
       "      <th>tau3</th>\n",
       "      <th>tau4</th>\n",
       "      <th>p1</th>\n",
       "      <th>p2</th>\n",
       "      <th>p3</th>\n",
       "      <th>p4</th>\n",
       "      <th>g1</th>\n",
       "      <th>g2</th>\n",
       "      <th>g3</th>\n",
       "      <th>g4</th>\n",
       "      <th>stabf</th>\n",
       "    </tr>\n",
       "  </thead>\n",
       "  <tbody>\n",
       "    <tr>\n",
       "      <th>0</th>\n",
       "      <td>2.959060</td>\n",
       "      <td>3.079885</td>\n",
       "      <td>8.381025</td>\n",
       "      <td>9.780754</td>\n",
       "      <td>3.763085</td>\n",
       "      <td>-0.782604</td>\n",
       "      <td>-1.257395</td>\n",
       "      <td>-1.723086</td>\n",
       "      <td>0.650456</td>\n",
       "      <td>0.859578</td>\n",
       "      <td>0.887445</td>\n",
       "      <td>0.958034</td>\n",
       "      <td>unstable</td>\n",
       "    </tr>\n",
       "    <tr>\n",
       "      <th>1</th>\n",
       "      <td>9.304097</td>\n",
       "      <td>4.902524</td>\n",
       "      <td>3.047541</td>\n",
       "      <td>1.369357</td>\n",
       "      <td>5.067812</td>\n",
       "      <td>-1.940058</td>\n",
       "      <td>-1.872742</td>\n",
       "      <td>-1.255012</td>\n",
       "      <td>0.413441</td>\n",
       "      <td>0.862414</td>\n",
       "      <td>0.562139</td>\n",
       "      <td>0.781760</td>\n",
       "      <td>stable</td>\n",
       "    </tr>\n",
       "    <tr>\n",
       "      <th>2</th>\n",
       "      <td>8.971707</td>\n",
       "      <td>8.848428</td>\n",
       "      <td>3.046479</td>\n",
       "      <td>1.214518</td>\n",
       "      <td>3.405158</td>\n",
       "      <td>-1.207456</td>\n",
       "      <td>-1.277210</td>\n",
       "      <td>-0.920492</td>\n",
       "      <td>0.163041</td>\n",
       "      <td>0.766689</td>\n",
       "      <td>0.839444</td>\n",
       "      <td>0.109853</td>\n",
       "      <td>unstable</td>\n",
       "    </tr>\n",
       "    <tr>\n",
       "      <th>3</th>\n",
       "      <td>0.716415</td>\n",
       "      <td>7.669600</td>\n",
       "      <td>4.486641</td>\n",
       "      <td>2.340563</td>\n",
       "      <td>3.963791</td>\n",
       "      <td>-1.027473</td>\n",
       "      <td>-1.938944</td>\n",
       "      <td>-0.997374</td>\n",
       "      <td>0.446209</td>\n",
       "      <td>0.976744</td>\n",
       "      <td>0.929381</td>\n",
       "      <td>0.362718</td>\n",
       "      <td>unstable</td>\n",
       "    </tr>\n",
       "    <tr>\n",
       "      <th>4</th>\n",
       "      <td>3.134112</td>\n",
       "      <td>7.608772</td>\n",
       "      <td>4.943759</td>\n",
       "      <td>9.857573</td>\n",
       "      <td>3.525811</td>\n",
       "      <td>-1.125531</td>\n",
       "      <td>-1.845975</td>\n",
       "      <td>-0.554305</td>\n",
       "      <td>0.797110</td>\n",
       "      <td>0.455450</td>\n",
       "      <td>0.656947</td>\n",
       "      <td>0.820923</td>\n",
       "      <td>unstable</td>\n",
       "    </tr>\n",
       "  </tbody>\n",
       "</table>\n",
       "</div>"
      ],
      "text/plain": [
       "       tau1      tau2      tau3      tau4        p1        p2        p3  \\\n",
       "0  2.959060  3.079885  8.381025  9.780754  3.763085 -0.782604 -1.257395   \n",
       "1  9.304097  4.902524  3.047541  1.369357  5.067812 -1.940058 -1.872742   \n",
       "2  8.971707  8.848428  3.046479  1.214518  3.405158 -1.207456 -1.277210   \n",
       "3  0.716415  7.669600  4.486641  2.340563  3.963791 -1.027473 -1.938944   \n",
       "4  3.134112  7.608772  4.943759  9.857573  3.525811 -1.125531 -1.845975   \n",
       "\n",
       "         p4        g1        g2        g3        g4     stabf  \n",
       "0 -1.723086  0.650456  0.859578  0.887445  0.958034  unstable  \n",
       "1 -1.255012  0.413441  0.862414  0.562139  0.781760    stable  \n",
       "2 -0.920492  0.163041  0.766689  0.839444  0.109853  unstable  \n",
       "3 -0.997374  0.446209  0.976744  0.929381  0.362718  unstable  \n",
       "4 -0.554305  0.797110  0.455450  0.656947  0.820923  unstable  "
      ]
     },
     "execution_count": 77,
     "metadata": {},
     "output_type": "execute_result"
    }
   ],
   "source": [
    "df.head()"
   ]
  },
  {
   "cell_type": "code",
   "execution_count": 78,
   "id": "0cf5da8f",
   "metadata": {
    "ExecuteTime": {
     "end_time": "2022-03-06T04:12:25.346546Z",
     "start_time": "2022-03-06T04:12:25.331548Z"
    }
   },
   "outputs": [
    {
     "data": {
      "text/plain": [
       "0       unstable\n",
       "1         stable\n",
       "2       unstable\n",
       "3       unstable\n",
       "4       unstable\n",
       "          ...   \n",
       "9995    unstable\n",
       "9996      stable\n",
       "9997      stable\n",
       "9998    unstable\n",
       "9999    unstable\n",
       "Name: stabf, Length: 10000, dtype: object"
      ]
     },
     "execution_count": 78,
     "metadata": {},
     "output_type": "execute_result"
    }
   ],
   "source": [
    "df[\"stabf\"]"
   ]
  },
  {
   "cell_type": "code",
   "execution_count": 79,
   "id": "11e456e8",
   "metadata": {
    "ExecuteTime": {
     "end_time": "2022-03-06T04:12:32.206865Z",
     "start_time": "2022-03-06T04:12:32.196867Z"
    }
   },
   "outputs": [],
   "source": [
    "#encode categorical variable\n",
    "\n",
    "from sklearn.preprocessing import LabelEncoder\n",
    "encoder = LabelEncoder()\n",
    "df[\"stabf\"] = encoder.fit_transform(df[\"stabf\"])"
   ]
  },
  {
   "cell_type": "code",
   "execution_count": 80,
   "id": "c1638cd8",
   "metadata": {
    "ExecuteTime": {
     "end_time": "2022-03-06T04:12:50.310929Z",
     "start_time": "2022-03-06T04:12:50.286969Z"
    }
   },
   "outputs": [
    {
     "data": {
      "text/html": [
       "<div>\n",
       "<style scoped>\n",
       "    .dataframe tbody tr th:only-of-type {\n",
       "        vertical-align: middle;\n",
       "    }\n",
       "\n",
       "    .dataframe tbody tr th {\n",
       "        vertical-align: top;\n",
       "    }\n",
       "\n",
       "    .dataframe thead th {\n",
       "        text-align: right;\n",
       "    }\n",
       "</style>\n",
       "<table border=\"1\" class=\"dataframe\">\n",
       "  <thead>\n",
       "    <tr style=\"text-align: right;\">\n",
       "      <th></th>\n",
       "      <th>tau1</th>\n",
       "      <th>tau2</th>\n",
       "      <th>tau3</th>\n",
       "      <th>tau4</th>\n",
       "      <th>p1</th>\n",
       "      <th>p2</th>\n",
       "      <th>p3</th>\n",
       "      <th>p4</th>\n",
       "      <th>g1</th>\n",
       "      <th>g2</th>\n",
       "      <th>g3</th>\n",
       "      <th>g4</th>\n",
       "      <th>stabf</th>\n",
       "    </tr>\n",
       "  </thead>\n",
       "  <tbody>\n",
       "    <tr>\n",
       "      <th>0</th>\n",
       "      <td>2.959060</td>\n",
       "      <td>3.079885</td>\n",
       "      <td>8.381025</td>\n",
       "      <td>9.780754</td>\n",
       "      <td>3.763085</td>\n",
       "      <td>-0.782604</td>\n",
       "      <td>-1.257395</td>\n",
       "      <td>-1.723086</td>\n",
       "      <td>0.650456</td>\n",
       "      <td>0.859578</td>\n",
       "      <td>0.887445</td>\n",
       "      <td>0.958034</td>\n",
       "      <td>1</td>\n",
       "    </tr>\n",
       "    <tr>\n",
       "      <th>1</th>\n",
       "      <td>9.304097</td>\n",
       "      <td>4.902524</td>\n",
       "      <td>3.047541</td>\n",
       "      <td>1.369357</td>\n",
       "      <td>5.067812</td>\n",
       "      <td>-1.940058</td>\n",
       "      <td>-1.872742</td>\n",
       "      <td>-1.255012</td>\n",
       "      <td>0.413441</td>\n",
       "      <td>0.862414</td>\n",
       "      <td>0.562139</td>\n",
       "      <td>0.781760</td>\n",
       "      <td>0</td>\n",
       "    </tr>\n",
       "    <tr>\n",
       "      <th>2</th>\n",
       "      <td>8.971707</td>\n",
       "      <td>8.848428</td>\n",
       "      <td>3.046479</td>\n",
       "      <td>1.214518</td>\n",
       "      <td>3.405158</td>\n",
       "      <td>-1.207456</td>\n",
       "      <td>-1.277210</td>\n",
       "      <td>-0.920492</td>\n",
       "      <td>0.163041</td>\n",
       "      <td>0.766689</td>\n",
       "      <td>0.839444</td>\n",
       "      <td>0.109853</td>\n",
       "      <td>1</td>\n",
       "    </tr>\n",
       "    <tr>\n",
       "      <th>3</th>\n",
       "      <td>0.716415</td>\n",
       "      <td>7.669600</td>\n",
       "      <td>4.486641</td>\n",
       "      <td>2.340563</td>\n",
       "      <td>3.963791</td>\n",
       "      <td>-1.027473</td>\n",
       "      <td>-1.938944</td>\n",
       "      <td>-0.997374</td>\n",
       "      <td>0.446209</td>\n",
       "      <td>0.976744</td>\n",
       "      <td>0.929381</td>\n",
       "      <td>0.362718</td>\n",
       "      <td>1</td>\n",
       "    </tr>\n",
       "    <tr>\n",
       "      <th>4</th>\n",
       "      <td>3.134112</td>\n",
       "      <td>7.608772</td>\n",
       "      <td>4.943759</td>\n",
       "      <td>9.857573</td>\n",
       "      <td>3.525811</td>\n",
       "      <td>-1.125531</td>\n",
       "      <td>-1.845975</td>\n",
       "      <td>-0.554305</td>\n",
       "      <td>0.797110</td>\n",
       "      <td>0.455450</td>\n",
       "      <td>0.656947</td>\n",
       "      <td>0.820923</td>\n",
       "      <td>1</td>\n",
       "    </tr>\n",
       "  </tbody>\n",
       "</table>\n",
       "</div>"
      ],
      "text/plain": [
       "       tau1      tau2      tau3      tau4        p1        p2        p3  \\\n",
       "0  2.959060  3.079885  8.381025  9.780754  3.763085 -0.782604 -1.257395   \n",
       "1  9.304097  4.902524  3.047541  1.369357  5.067812 -1.940058 -1.872742   \n",
       "2  8.971707  8.848428  3.046479  1.214518  3.405158 -1.207456 -1.277210   \n",
       "3  0.716415  7.669600  4.486641  2.340563  3.963791 -1.027473 -1.938944   \n",
       "4  3.134112  7.608772  4.943759  9.857573  3.525811 -1.125531 -1.845975   \n",
       "\n",
       "         p4        g1        g2        g3        g4  stabf  \n",
       "0 -1.723086  0.650456  0.859578  0.887445  0.958034      1  \n",
       "1 -1.255012  0.413441  0.862414  0.562139  0.781760      0  \n",
       "2 -0.920492  0.163041  0.766689  0.839444  0.109853      1  \n",
       "3 -0.997374  0.446209  0.976744  0.929381  0.362718      1  \n",
       "4 -0.554305  0.797110  0.455450  0.656947  0.820923      1  "
      ]
     },
     "execution_count": 80,
     "metadata": {},
     "output_type": "execute_result"
    }
   ],
   "source": [
    "df.head()"
   ]
  },
  {
   "cell_type": "code",
   "execution_count": 81,
   "id": "d49e44ac",
   "metadata": {
    "ExecuteTime": {
     "end_time": "2022-03-06T04:12:57.647396Z",
     "start_time": "2022-03-06T04:12:57.639417Z"
    }
   },
   "outputs": [
    {
     "data": {
      "text/plain": [
       "array(['stable', 'unstable'], dtype=object)"
      ]
     },
     "execution_count": 81,
     "metadata": {},
     "output_type": "execute_result"
    }
   ],
   "source": [
    "encoder.classes_"
   ]
  },
  {
   "cell_type": "code",
   "execution_count": 82,
   "id": "31fe7c30",
   "metadata": {
    "ExecuteTime": {
     "end_time": "2022-03-06T04:13:02.503711Z",
     "start_time": "2022-03-06T04:13:02.485724Z"
    }
   },
   "outputs": [
    {
     "data": {
      "text/html": [
       "<div>\n",
       "<style scoped>\n",
       "    .dataframe tbody tr th:only-of-type {\n",
       "        vertical-align: middle;\n",
       "    }\n",
       "\n",
       "    .dataframe tbody tr th {\n",
       "        vertical-align: top;\n",
       "    }\n",
       "\n",
       "    .dataframe thead th {\n",
       "        text-align: right;\n",
       "    }\n",
       "</style>\n",
       "<table border=\"1\" class=\"dataframe\">\n",
       "  <thead>\n",
       "    <tr style=\"text-align: right;\">\n",
       "      <th></th>\n",
       "      <th>tau1</th>\n",
       "      <th>tau2</th>\n",
       "      <th>tau3</th>\n",
       "      <th>tau4</th>\n",
       "      <th>p1</th>\n",
       "      <th>p2</th>\n",
       "      <th>p3</th>\n",
       "      <th>p4</th>\n",
       "      <th>g1</th>\n",
       "      <th>g2</th>\n",
       "      <th>g3</th>\n",
       "      <th>g4</th>\n",
       "      <th>stabf</th>\n",
       "    </tr>\n",
       "  </thead>\n",
       "  <tbody>\n",
       "    <tr>\n",
       "      <th>0</th>\n",
       "      <td>2.959060</td>\n",
       "      <td>3.079885</td>\n",
       "      <td>8.381025</td>\n",
       "      <td>9.780754</td>\n",
       "      <td>3.763085</td>\n",
       "      <td>-0.782604</td>\n",
       "      <td>-1.257395</td>\n",
       "      <td>-1.723086</td>\n",
       "      <td>0.650456</td>\n",
       "      <td>0.859578</td>\n",
       "      <td>0.887445</td>\n",
       "      <td>0.958034</td>\n",
       "      <td>1</td>\n",
       "    </tr>\n",
       "    <tr>\n",
       "      <th>1</th>\n",
       "      <td>9.304097</td>\n",
       "      <td>4.902524</td>\n",
       "      <td>3.047541</td>\n",
       "      <td>1.369357</td>\n",
       "      <td>5.067812</td>\n",
       "      <td>-1.940058</td>\n",
       "      <td>-1.872742</td>\n",
       "      <td>-1.255012</td>\n",
       "      <td>0.413441</td>\n",
       "      <td>0.862414</td>\n",
       "      <td>0.562139</td>\n",
       "      <td>0.781760</td>\n",
       "      <td>0</td>\n",
       "    </tr>\n",
       "    <tr>\n",
       "      <th>2</th>\n",
       "      <td>8.971707</td>\n",
       "      <td>8.848428</td>\n",
       "      <td>3.046479</td>\n",
       "      <td>1.214518</td>\n",
       "      <td>3.405158</td>\n",
       "      <td>-1.207456</td>\n",
       "      <td>-1.277210</td>\n",
       "      <td>-0.920492</td>\n",
       "      <td>0.163041</td>\n",
       "      <td>0.766689</td>\n",
       "      <td>0.839444</td>\n",
       "      <td>0.109853</td>\n",
       "      <td>1</td>\n",
       "    </tr>\n",
       "    <tr>\n",
       "      <th>3</th>\n",
       "      <td>0.716415</td>\n",
       "      <td>7.669600</td>\n",
       "      <td>4.486641</td>\n",
       "      <td>2.340563</td>\n",
       "      <td>3.963791</td>\n",
       "      <td>-1.027473</td>\n",
       "      <td>-1.938944</td>\n",
       "      <td>-0.997374</td>\n",
       "      <td>0.446209</td>\n",
       "      <td>0.976744</td>\n",
       "      <td>0.929381</td>\n",
       "      <td>0.362718</td>\n",
       "      <td>1</td>\n",
       "    </tr>\n",
       "    <tr>\n",
       "      <th>4</th>\n",
       "      <td>3.134112</td>\n",
       "      <td>7.608772</td>\n",
       "      <td>4.943759</td>\n",
       "      <td>9.857573</td>\n",
       "      <td>3.525811</td>\n",
       "      <td>-1.125531</td>\n",
       "      <td>-1.845975</td>\n",
       "      <td>-0.554305</td>\n",
       "      <td>0.797110</td>\n",
       "      <td>0.455450</td>\n",
       "      <td>0.656947</td>\n",
       "      <td>0.820923</td>\n",
       "      <td>1</td>\n",
       "    </tr>\n",
       "  </tbody>\n",
       "</table>\n",
       "</div>"
      ],
      "text/plain": [
       "       tau1      tau2      tau3      tau4        p1        p2        p3  \\\n",
       "0  2.959060  3.079885  8.381025  9.780754  3.763085 -0.782604 -1.257395   \n",
       "1  9.304097  4.902524  3.047541  1.369357  5.067812 -1.940058 -1.872742   \n",
       "2  8.971707  8.848428  3.046479  1.214518  3.405158 -1.207456 -1.277210   \n",
       "3  0.716415  7.669600  4.486641  2.340563  3.963791 -1.027473 -1.938944   \n",
       "4  3.134112  7.608772  4.943759  9.857573  3.525811 -1.125531 -1.845975   \n",
       "\n",
       "         p4        g1        g2        g3        g4  stabf  \n",
       "0 -1.723086  0.650456  0.859578  0.887445  0.958034      1  \n",
       "1 -1.255012  0.413441  0.862414  0.562139  0.781760      0  \n",
       "2 -0.920492  0.163041  0.766689  0.839444  0.109853      1  \n",
       "3 -0.997374  0.446209  0.976744  0.929381  0.362718      1  \n",
       "4 -0.554305  0.797110  0.455450  0.656947  0.820923      1  "
      ]
     },
     "execution_count": 82,
     "metadata": {},
     "output_type": "execute_result"
    }
   ],
   "source": [
    "df.head()"
   ]
  },
  {
   "cell_type": "code",
   "execution_count": 83,
   "id": "0b327413",
   "metadata": {
    "ExecuteTime": {
     "end_time": "2022-03-06T04:13:05.742485Z",
     "start_time": "2022-03-06T04:13:05.726496Z"
    }
   },
   "outputs": [],
   "source": [
    "X = df.drop(columns=[\"stabf\"]) #defining the X features dataset (independent variable)"
   ]
  },
  {
   "cell_type": "code",
   "execution_count": 84,
   "id": "83fec33d",
   "metadata": {
    "ExecuteTime": {
     "end_time": "2022-03-06T04:13:06.854089Z",
     "start_time": "2022-03-06T04:13:06.850100Z"
    }
   },
   "outputs": [],
   "source": [
    "y = df[\"stabf\"] #defining the target"
   ]
  },
  {
   "cell_type": "code",
   "execution_count": 85,
   "id": "5f68ed53",
   "metadata": {
    "ExecuteTime": {
     "end_time": "2022-03-06T04:13:08.922352Z",
     "start_time": "2022-03-06T04:13:08.908393Z"
    }
   },
   "outputs": [
    {
     "data": {
      "text/plain": [
       "((10000, 12), (10000,))"
      ]
     },
     "execution_count": 85,
     "metadata": {},
     "output_type": "execute_result"
    }
   ],
   "source": [
    "X.shape, y.shape"
   ]
  },
  {
   "cell_type": "code",
   "execution_count": 86,
   "id": "356b7e3c",
   "metadata": {
    "ExecuteTime": {
     "end_time": "2022-03-06T04:13:15.214418Z",
     "start_time": "2022-03-06T04:13:15.192443Z"
    }
   },
   "outputs": [
    {
     "data": {
      "text/plain": [
       "1    6380\n",
       "0    3620\n",
       "Name: stabf, dtype: int64"
      ]
     },
     "execution_count": 86,
     "metadata": {},
     "output_type": "execute_result"
    }
   ],
   "source": [
    "y.value_counts()"
   ]
  },
  {
   "cell_type": "code",
   "execution_count": 87,
   "id": "39e01bf4",
   "metadata": {
    "ExecuteTime": {
     "end_time": "2022-03-06T04:13:18.023130Z",
     "start_time": "2022-03-06T04:13:18.011139Z"
    }
   },
   "outputs": [],
   "source": [
    "#split the data into training and testing data\n",
    "\n",
    "from sklearn.model_selection import train_test_split\n",
    "\n",
    "X_train, X_test, y_train, y_test = train_test_split(X,y, test_size=0.2, random_state=1)"
   ]
  },
  {
   "cell_type": "code",
   "execution_count": 88,
   "id": "cacd3ae5",
   "metadata": {
    "ExecuteTime": {
     "end_time": "2022-03-06T04:13:24.922541Z",
     "start_time": "2022-03-06T04:13:24.914562Z"
    }
   },
   "outputs": [],
   "source": [
    "#transform the data using StandardScaler\n",
    "\n",
    "from sklearn.preprocessing import StandardScaler\n",
    "\n",
    "scaler = StandardScaler() #initialise the scaler"
   ]
  },
  {
   "cell_type": "code",
   "execution_count": 89,
   "id": "c9f7306b",
   "metadata": {
    "ExecuteTime": {
     "end_time": "2022-03-06T04:14:04.331301Z",
     "start_time": "2022-03-06T04:14:04.303377Z"
    }
   },
   "outputs": [],
   "source": [
    "X_normal_train = scaler.fit(X_train)\n",
    "X_normal_train = scaler.transform(X_train)\n",
    "\n",
    "X_normal_train = pd.DataFrame(X_normal_train, columns=X_train.columns)\n",
    "\n",
    "X_normal_test = X_test.reset_index(drop=True)\n",
    "X_normal_test = scaler.transform(X_test)\n",
    "X_normal_test = pd.DataFrame(X_normal_test, columns=X_test.columns)"
   ]
  },
  {
   "cell_type": "code",
   "execution_count": 90,
   "id": "06756d2e",
   "metadata": {
    "ExecuteTime": {
     "end_time": "2022-03-06T04:14:08.156665Z",
     "start_time": "2022-03-06T04:14:08.128712Z"
    }
   },
   "outputs": [
    {
     "data": {
      "text/html": [
       "<div>\n",
       "<style scoped>\n",
       "    .dataframe tbody tr th:only-of-type {\n",
       "        vertical-align: middle;\n",
       "    }\n",
       "\n",
       "    .dataframe tbody tr th {\n",
       "        vertical-align: top;\n",
       "    }\n",
       "\n",
       "    .dataframe thead th {\n",
       "        text-align: right;\n",
       "    }\n",
       "</style>\n",
       "<table border=\"1\" class=\"dataframe\">\n",
       "  <thead>\n",
       "    <tr style=\"text-align: right;\">\n",
       "      <th></th>\n",
       "      <th>tau1</th>\n",
       "      <th>tau2</th>\n",
       "      <th>tau3</th>\n",
       "      <th>tau4</th>\n",
       "      <th>p1</th>\n",
       "      <th>p2</th>\n",
       "      <th>p3</th>\n",
       "      <th>p4</th>\n",
       "      <th>g1</th>\n",
       "      <th>g2</th>\n",
       "      <th>g3</th>\n",
       "      <th>g4</th>\n",
       "    </tr>\n",
       "  </thead>\n",
       "  <tbody>\n",
       "    <tr>\n",
       "      <th>0</th>\n",
       "      <td>0.367327</td>\n",
       "      <td>-0.986042</td>\n",
       "      <td>0.650447</td>\n",
       "      <td>1.547527</td>\n",
       "      <td>-0.291490</td>\n",
       "      <td>0.061535</td>\n",
       "      <td>1.293862</td>\n",
       "      <td>-0.845074</td>\n",
       "      <td>0.160918</td>\n",
       "      <td>0.339859</td>\n",
       "      <td>0.585568</td>\n",
       "      <td>0.492239</td>\n",
       "    </tr>\n",
       "    <tr>\n",
       "      <th>1</th>\n",
       "      <td>-0.064659</td>\n",
       "      <td>0.089437</td>\n",
       "      <td>1.035079</td>\n",
       "      <td>-1.641494</td>\n",
       "      <td>0.619865</td>\n",
       "      <td>-0.067235</td>\n",
       "      <td>-1.502925</td>\n",
       "      <td>0.486613</td>\n",
       "      <td>-0.293143</td>\n",
       "      <td>-1.558488</td>\n",
       "      <td>1.429649</td>\n",
       "      <td>-1.443521</td>\n",
       "    </tr>\n",
       "    <tr>\n",
       "      <th>2</th>\n",
       "      <td>-1.467850</td>\n",
       "      <td>1.298418</td>\n",
       "      <td>-0.502536</td>\n",
       "      <td>1.166046</td>\n",
       "      <td>-0.180521</td>\n",
       "      <td>0.490603</td>\n",
       "      <td>0.682560</td>\n",
       "      <td>-0.855302</td>\n",
       "      <td>1.399350</td>\n",
       "      <td>1.451534</td>\n",
       "      <td>-1.045743</td>\n",
       "      <td>0.492489</td>\n",
       "    </tr>\n",
       "    <tr>\n",
       "      <th>3</th>\n",
       "      <td>0.820081</td>\n",
       "      <td>0.529920</td>\n",
       "      <td>1.299657</td>\n",
       "      <td>-1.141975</td>\n",
       "      <td>-0.812854</td>\n",
       "      <td>-0.763632</td>\n",
       "      <td>1.521579</td>\n",
       "      <td>0.658780</td>\n",
       "      <td>-0.958319</td>\n",
       "      <td>1.361958</td>\n",
       "      <td>1.604140</td>\n",
       "      <td>0.275303</td>\n",
       "    </tr>\n",
       "    <tr>\n",
       "      <th>4</th>\n",
       "      <td>0.665424</td>\n",
       "      <td>-1.425627</td>\n",
       "      <td>0.312300</td>\n",
       "      <td>0.919137</td>\n",
       "      <td>-1.614296</td>\n",
       "      <td>0.760315</td>\n",
       "      <td>1.422019</td>\n",
       "      <td>0.639243</td>\n",
       "      <td>1.676895</td>\n",
       "      <td>0.695660</td>\n",
       "      <td>1.137504</td>\n",
       "      <td>-1.312575</td>\n",
       "    </tr>\n",
       "  </tbody>\n",
       "</table>\n",
       "</div>"
      ],
      "text/plain": [
       "       tau1      tau2      tau3      tau4        p1        p2        p3  \\\n",
       "0  0.367327 -0.986042  0.650447  1.547527 -0.291490  0.061535  1.293862   \n",
       "1 -0.064659  0.089437  1.035079 -1.641494  0.619865 -0.067235 -1.502925   \n",
       "2 -1.467850  1.298418 -0.502536  1.166046 -0.180521  0.490603  0.682560   \n",
       "3  0.820081  0.529920  1.299657 -1.141975 -0.812854 -0.763632  1.521579   \n",
       "4  0.665424 -1.425627  0.312300  0.919137 -1.614296  0.760315  1.422019   \n",
       "\n",
       "         p4        g1        g2        g3        g4  \n",
       "0 -0.845074  0.160918  0.339859  0.585568  0.492239  \n",
       "1  0.486613 -0.293143 -1.558488  1.429649 -1.443521  \n",
       "2 -0.855302  1.399350  1.451534 -1.045743  0.492489  \n",
       "3  0.658780 -0.958319  1.361958  1.604140  0.275303  \n",
       "4  0.639243  1.676895  0.695660  1.137504 -1.312575  "
      ]
     },
     "execution_count": 90,
     "metadata": {},
     "output_type": "execute_result"
    }
   ],
   "source": [
    "X_normal_train.head()"
   ]
  },
  {
   "cell_type": "code",
   "execution_count": 91,
   "id": "49ddf4ba",
   "metadata": {
    "ExecuteTime": {
     "end_time": "2022-03-06T04:14:19.405936Z",
     "start_time": "2022-03-06T04:14:19.397961Z"
    }
   },
   "outputs": [
    {
     "data": {
      "text/plain": [
       "(8000, 12)"
      ]
     },
     "execution_count": 91,
     "metadata": {},
     "output_type": "execute_result"
    }
   ],
   "source": [
    "X_normal_train.shape"
   ]
  },
  {
   "cell_type": "markdown",
   "id": "0e998e9b",
   "metadata": {
    "ExecuteTime": {
     "end_time": "2022-03-04T22:12:44.093669Z",
     "start_time": "2022-03-04T22:12:44.084660Z"
    }
   },
   "source": [
    "# Random Forest Classifier"
   ]
  },
  {
   "cell_type": "code",
   "execution_count": 92,
   "id": "e7b8c5ba",
   "metadata": {
    "ExecuteTime": {
     "end_time": "2022-03-06T04:14:24.726862Z",
     "start_time": "2022-03-06T04:14:24.719881Z"
    }
   },
   "outputs": [],
   "source": [
    "from sklearn.ensemble import RandomForestClassifier\n",
    "\n",
    "clf = RandomForestClassifier(n_jobs=2, random_state=1) #use 2 cores when possible"
   ]
  },
  {
   "cell_type": "code",
   "execution_count": 93,
   "id": "40aed029",
   "metadata": {
    "ExecuteTime": {
     "end_time": "2022-03-06T04:14:34.300378Z",
     "start_time": "2022-03-06T04:14:33.321006Z"
    }
   },
   "outputs": [
    {
     "data": {
      "text/plain": [
       "RandomForestClassifier(n_jobs=2, random_state=1)"
      ]
     },
     "execution_count": 93,
     "metadata": {},
     "output_type": "execute_result"
    }
   ],
   "source": [
    "clf.fit(X_normal_train, y_train)"
   ]
  },
  {
   "cell_type": "code",
   "execution_count": 94,
   "id": "6ca21224",
   "metadata": {
    "ExecuteTime": {
     "end_time": "2022-03-06T04:14:40.807861Z",
     "start_time": "2022-03-06T04:14:40.753010Z"
    }
   },
   "outputs": [],
   "source": [
    "#making predictions on the test dataset\n",
    "\n",
    "y_pred = clf.predict(X_normal_test)"
   ]
  },
  {
   "cell_type": "code",
   "execution_count": 95,
   "id": "6e563768",
   "metadata": {
    "ExecuteTime": {
     "end_time": "2022-03-06T04:14:48.360522Z",
     "start_time": "2022-03-06T04:14:48.342572Z"
    }
   },
   "outputs": [
    {
     "data": {
      "text/plain": [
       "array([1, 1, 0, ..., 0, 0, 1])"
      ]
     },
     "execution_count": 95,
     "metadata": {},
     "output_type": "execute_result"
    }
   ],
   "source": [
    "y_pred"
   ]
  },
  {
   "cell_type": "code",
   "execution_count": 96,
   "id": "de77f406",
   "metadata": {
    "ExecuteTime": {
     "end_time": "2022-03-06T04:14:54.968921Z",
     "start_time": "2022-03-06T04:14:54.912043Z"
    }
   },
   "outputs": [],
   "source": [
    "y_proba = clf.predict_proba(X_normal_test) #predict probability"
   ]
  },
  {
   "cell_type": "code",
   "execution_count": 97,
   "id": "6b77d2b4",
   "metadata": {
    "ExecuteTime": {
     "end_time": "2022-03-06T04:14:56.123883Z",
     "start_time": "2022-03-06T04:14:56.104940Z"
    }
   },
   "outputs": [
    {
     "data": {
      "text/plain": [
       "array([[0.09, 0.91],\n",
       "       [0.05, 0.95],\n",
       "       [0.76, 0.24],\n",
       "       ...,\n",
       "       [0.74, 0.26],\n",
       "       [0.5 , 0.5 ],\n",
       "       [0.32, 0.68]])"
      ]
     },
     "execution_count": 97,
     "metadata": {},
     "output_type": "execute_result"
    }
   ],
   "source": [
    "y_proba"
   ]
  },
  {
   "cell_type": "code",
   "execution_count": 98,
   "id": "775bfc90",
   "metadata": {
    "ExecuteTime": {
     "end_time": "2022-03-06T04:15:04.504711Z",
     "start_time": "2022-03-06T04:15:04.486759Z"
    }
   },
   "outputs": [
    {
     "data": {
      "text/html": [
       "<div>\n",
       "<style scoped>\n",
       "    .dataframe tbody tr th:only-of-type {\n",
       "        vertical-align: middle;\n",
       "    }\n",
       "\n",
       "    .dataframe tbody tr th {\n",
       "        vertical-align: top;\n",
       "    }\n",
       "\n",
       "    .dataframe thead th {\n",
       "        text-align: right;\n",
       "    }\n",
       "</style>\n",
       "<table border=\"1\" class=\"dataframe\">\n",
       "  <thead>\n",
       "    <tr style=\"text-align: right;\">\n",
       "      <th>Predicted Values</th>\n",
       "      <th>0</th>\n",
       "      <th>1</th>\n",
       "    </tr>\n",
       "    <tr>\n",
       "      <th>Actual Values</th>\n",
       "      <th></th>\n",
       "      <th></th>\n",
       "    </tr>\n",
       "  </thead>\n",
       "  <tbody>\n",
       "    <tr>\n",
       "      <th>0</th>\n",
       "      <td>625</td>\n",
       "      <td>87</td>\n",
       "    </tr>\n",
       "    <tr>\n",
       "      <th>1</th>\n",
       "      <td>55</td>\n",
       "      <td>1233</td>\n",
       "    </tr>\n",
       "  </tbody>\n",
       "</table>\n",
       "</div>"
      ],
      "text/plain": [
       "Predicted Values    0     1\n",
       "Actual Values              \n",
       "0                 625    87\n",
       "1                  55  1233"
      ]
     },
     "execution_count": 98,
     "metadata": {},
     "output_type": "execute_result"
    }
   ],
   "source": [
    "#creating a confusion matrix\n",
    "\n",
    "pd.crosstab(y_test, y_pred, rownames=[\"Actual Values\"], colnames=[\"Predicted Values\"])"
   ]
  },
  {
   "cell_type": "code",
   "execution_count": 38,
   "id": "db2996d3",
   "metadata": {
    "ExecuteTime": {
     "end_time": "2022-03-05T20:46:22.645544Z",
     "start_time": "2022-03-05T20:46:22.601405Z"
    }
   },
   "outputs": [
    {
     "data": {
      "text/plain": [
       "[('tau1', 0.1244),\n",
       " ('tau2', 0.1263),\n",
       " ('tau3', 0.1221),\n",
       " ('tau4', 0.1214),\n",
       " ('p1', 0.0291),\n",
       " ('p2', 0.0314),\n",
       " ('p3', 0.03),\n",
       " ('p4', 0.0295),\n",
       " ('g1', 0.0908),\n",
       " ('g2', 0.0977),\n",
       " ('g3', 0.1003),\n",
       " ('g4', 0.097)]"
      ]
     },
     "execution_count": 38,
     "metadata": {},
     "output_type": "execute_result"
    }
   ],
   "source": [
    "#check the most important feautures\n",
    "list(zip(X_normal_train.columns, clf.feature_importances_.round(4)))"
   ]
  },
  {
   "cell_type": "code",
   "execution_count": 39,
   "id": "0bed0483",
   "metadata": {
    "ExecuteTime": {
     "end_time": "2022-03-05T20:46:22.692458Z",
     "start_time": "2022-03-05T20:46:22.648542Z"
    }
   },
   "outputs": [
    {
     "data": {
      "text/plain": [
       "[0.0291,\n",
       " 0.0295,\n",
       " 0.03,\n",
       " 0.0314,\n",
       " 0.0908,\n",
       " 0.097,\n",
       " 0.0977,\n",
       " 0.1003,\n",
       " 0.1214,\n",
       " 0.1221,\n",
       " 0.1244,\n",
       " 0.1263]"
      ]
     },
     "execution_count": 39,
     "metadata": {},
     "output_type": "execute_result"
    }
   ],
   "source": [
    "sorted(clf.feature_importances_.round(4))"
   ]
  },
  {
   "cell_type": "code",
   "execution_count": 99,
   "id": "26f6dd69",
   "metadata": {
    "ExecuteTime": {
     "end_time": "2022-03-06T04:15:32.157376Z",
     "start_time": "2022-03-06T04:15:32.137429Z"
    }
   },
   "outputs": [
    {
     "data": {
      "text/plain": [
       "array([[ 625,   87],\n",
       "       [  55, 1233]], dtype=int64)"
      ]
     },
     "execution_count": 99,
     "metadata": {},
     "output_type": "execute_result"
    }
   ],
   "source": [
    "confusion_matrix(y_test, y_pred)"
   ]
  },
  {
   "cell_type": "code",
   "execution_count": 100,
   "id": "50816d9e",
   "metadata": {
    "ExecuteTime": {
     "end_time": "2022-03-06T04:16:06.154282Z",
     "start_time": "2022-03-06T04:16:06.140323Z"
    }
   },
   "outputs": [
    {
     "data": {
      "text/plain": [
       "0.929"
      ]
     },
     "execution_count": 100,
     "metadata": {},
     "output_type": "execute_result"
    }
   ],
   "source": [
    "accuracy_score(y_test, y_pred)"
   ]
  },
  {
   "cell_type": "code",
   "execution_count": 101,
   "id": "4ddb3347",
   "metadata": {
    "ExecuteTime": {
     "end_time": "2022-03-06T04:17:55.410397Z",
     "start_time": "2022-03-06T04:17:55.386474Z"
    }
   },
   "outputs": [
    {
     "data": {
      "text/plain": [
       "0.9340909090909091"
      ]
     },
     "execution_count": 101,
     "metadata": {},
     "output_type": "execute_result"
    }
   ],
   "source": [
    "precision_score(y_test, y_pred)"
   ]
  },
  {
   "cell_type": "code",
   "execution_count": 102,
   "id": "c1a8563e",
   "metadata": {
    "ExecuteTime": {
     "end_time": "2022-03-06T04:18:40.847929Z",
     "start_time": "2022-03-06T04:18:40.829012Z"
    }
   },
   "outputs": [
    {
     "data": {
      "text/plain": [
       "0.9572981366459627"
      ]
     },
     "execution_count": 102,
     "metadata": {},
     "output_type": "execute_result"
    }
   ],
   "source": [
    "recall_score(y_test,y_pred)"
   ]
  },
  {
   "cell_type": "code",
   "execution_count": 103,
   "id": "4f2a39f3",
   "metadata": {
    "ExecuteTime": {
     "end_time": "2022-03-06T04:19:06.429632Z",
     "start_time": "2022-03-06T04:19:06.406727Z"
    }
   },
   "outputs": [
    {
     "data": {
      "text/plain": [
       "0.9455521472392638"
      ]
     },
     "execution_count": 103,
     "metadata": {},
     "output_type": "execute_result"
    }
   ],
   "source": [
    "f1_score(y_test,y_pred)"
   ]
  },
  {
   "cell_type": "code",
   "execution_count": 156,
   "id": "230d680f",
   "metadata": {
    "ExecuteTime": {
     "end_time": "2022-03-06T17:05:10.782797Z",
     "start_time": "2022-03-06T17:05:10.770828Z"
    }
   },
   "outputs": [
    {
     "data": {
      "text/plain": [
       "0.929"
      ]
     },
     "execution_count": 156,
     "metadata": {},
     "output_type": "execute_result"
    }
   ],
   "source": [
    "accuracy_score(y_test, y_pred).round(4)"
   ]
  },
  {
   "cell_type": "markdown",
   "id": "0e5f8993",
   "metadata": {
    "ExecuteTime": {
     "end_time": "2022-03-05T07:35:42.756970Z",
     "start_time": "2022-03-05T07:35:42.747995Z"
    }
   },
   "source": [
    "# Extra Tree Classifier"
   ]
  },
  {
   "cell_type": "code",
   "execution_count": 40,
   "id": "e1cee5d7",
   "metadata": {
    "ExecuteTime": {
     "end_time": "2022-03-05T20:46:22.707955Z",
     "start_time": "2022-03-05T20:46:22.694419Z"
    }
   },
   "outputs": [],
   "source": [
    "from sklearn.tree import ExtraTreeClassifier"
   ]
  },
  {
   "cell_type": "code",
   "execution_count": 41,
   "id": "3eb5301c",
   "metadata": {
    "ExecuteTime": {
     "end_time": "2022-03-05T20:46:22.723373Z",
     "start_time": "2022-03-05T20:46:22.710376Z"
    }
   },
   "outputs": [],
   "source": [
    "etc = ExtraTreeClassifier()"
   ]
  },
  {
   "cell_type": "code",
   "execution_count": 42,
   "id": "d53a1c59",
   "metadata": {
    "ExecuteTime": {
     "end_time": "2022-03-05T20:46:22.754697Z",
     "start_time": "2022-03-05T20:46:22.725368Z"
    }
   },
   "outputs": [
    {
     "data": {
      "text/plain": [
       "ExtraTreeClassifier()"
      ]
     },
     "execution_count": 42,
     "metadata": {},
     "output_type": "execute_result"
    }
   ],
   "source": [
    "etc.fit(X_normal_train,y_train)"
   ]
  },
  {
   "cell_type": "code",
   "execution_count": 43,
   "id": "134af23a",
   "metadata": {
    "ExecuteTime": {
     "end_time": "2022-03-05T20:46:22.770497Z",
     "start_time": "2022-03-05T20:46:22.757533Z"
    }
   },
   "outputs": [],
   "source": [
    "y_pred_etc = etc.predict(X_normal_test)"
   ]
  },
  {
   "cell_type": "code",
   "execution_count": 44,
   "id": "aa6c690f",
   "metadata": {
    "ExecuteTime": {
     "end_time": "2022-03-05T20:46:22.786537Z",
     "start_time": "2022-03-05T20:46:22.772493Z"
    }
   },
   "outputs": [
    {
     "data": {
      "text/plain": [
       "array([0, 1, 0, ..., 0, 1, 1])"
      ]
     },
     "execution_count": 44,
     "metadata": {},
     "output_type": "execute_result"
    }
   ],
   "source": [
    "y_pred_etc"
   ]
  },
  {
   "cell_type": "code",
   "execution_count": 58,
   "id": "8146e13a",
   "metadata": {
    "ExecuteTime": {
     "end_time": "2022-03-06T03:58:52.172701Z",
     "start_time": "2022-03-06T03:58:52.161733Z"
    }
   },
   "outputs": [
    {
     "data": {
      "text/plain": [
       "array([[ 468,  244],\n",
       "       [ 283, 1005]], dtype=int64)"
      ]
     },
     "execution_count": 58,
     "metadata": {},
     "output_type": "execute_result"
    }
   ],
   "source": [
    "confusion_matrix(y_test, y_pred_etc)"
   ]
  },
  {
   "cell_type": "code",
   "execution_count": 141,
   "id": "1032ae8b",
   "metadata": {
    "ExecuteTime": {
     "end_time": "2022-03-06T04:40:04.586262Z",
     "start_time": "2022-03-06T04:40:04.572269Z"
    }
   },
   "outputs": [
    {
     "data": {
      "text/plain": [
       "0.7365"
      ]
     },
     "execution_count": 141,
     "metadata": {},
     "output_type": "execute_result"
    }
   ],
   "source": [
    "accuracy_score(y_test, y_pred_etc)"
   ]
  },
  {
   "cell_type": "code",
   "execution_count": 144,
   "id": "83a90484",
   "metadata": {
    "ExecuteTime": {
     "end_time": "2022-03-06T07:50:50.625252Z",
     "start_time": "2022-03-06T07:50:50.612250Z"
    }
   },
   "outputs": [
    {
     "name": "stdout",
     "output_type": "stream",
     "text": [
      "              precision    recall  f1-score   support\n",
      "\n",
      "           0       0.92      0.88      0.90       712\n",
      "           1       0.93      0.96      0.95      1288\n",
      "\n",
      "    accuracy                           0.93      2000\n",
      "   macro avg       0.93      0.92      0.92      2000\n",
      "weighted avg       0.93      0.93      0.93      2000\n",
      "\n"
     ]
    }
   ],
   "source": [
    "print(classification_report(y_test, y_pred))"
   ]
  },
  {
   "cell_type": "code",
   "execution_count": 154,
   "id": "a2a5cf04",
   "metadata": {
    "ExecuteTime": {
     "end_time": "2022-03-06T16:46:58.122181Z",
     "start_time": "2022-03-06T16:46:58.114235Z"
    }
   },
   "outputs": [
    {
     "data": {
      "text/plain": [
       "[('tau1', 0.1173),\n",
       " ('tau2', 0.1152),\n",
       " ('tau3', 0.106),\n",
       " ('tau4', 0.1185),\n",
       " ('p1', 0.0408),\n",
       " ('p2', 0.042),\n",
       " ('p3', 0.0399),\n",
       " ('p4', 0.0415),\n",
       " ('g1', 0.0934),\n",
       " ('g2', 0.0915),\n",
       " ('g3', 0.1036),\n",
       " ('g4', 0.0904)]"
      ]
     },
     "execution_count": 154,
     "metadata": {},
     "output_type": "execute_result"
    }
   ],
   "source": [
    "list(zip(X_normal_train.columns, etc.feature_importances_.round(4)))"
   ]
  },
  {
   "cell_type": "code",
   "execution_count": 152,
   "id": "bdde94cc",
   "metadata": {
    "ExecuteTime": {
     "end_time": "2022-03-06T16:44:43.629850Z",
     "start_time": "2022-03-06T16:44:43.621873Z"
    }
   },
   "outputs": [
    {
     "data": {
      "text/plain": [
       "[0.0399,\n",
       " 0.0408,\n",
       " 0.0415,\n",
       " 0.042,\n",
       " 0.0904,\n",
       " 0.0915,\n",
       " 0.0934,\n",
       " 0.1036,\n",
       " 0.106,\n",
       " 0.1152,\n",
       " 0.1173,\n",
       " 0.1185]"
      ]
     },
     "execution_count": 152,
     "metadata": {},
     "output_type": "execute_result"
    }
   ],
   "source": [
    "sorted(etc.feature_importances_.round(4))"
   ]
  },
  {
   "cell_type": "markdown",
   "id": "d5082de7",
   "metadata": {},
   "source": [
    "# XGBoost Classifier"
   ]
  },
  {
   "cell_type": "code",
   "execution_count": 59,
   "id": "14a0660a",
   "metadata": {
    "ExecuteTime": {
     "end_time": "2022-03-06T03:59:32.172888Z",
     "start_time": "2022-03-06T03:59:32.159920Z"
    }
   },
   "outputs": [],
   "source": [
    "import xgboost as xgb"
   ]
  },
  {
   "cell_type": "code",
   "execution_count": 134,
   "id": "1a6aceda",
   "metadata": {
    "ExecuteTime": {
     "end_time": "2022-03-06T04:38:06.160925Z",
     "start_time": "2022-03-06T04:38:06.143998Z"
    }
   },
   "outputs": [],
   "source": [
    "xgb_model = xgb.XGBClassifier(use_label_encoder=False)"
   ]
  },
  {
   "cell_type": "code",
   "execution_count": 136,
   "id": "2134a50c",
   "metadata": {
    "ExecuteTime": {
     "end_time": "2022-03-06T04:38:24.284009Z",
     "start_time": "2022-03-06T04:38:23.096184Z"
    }
   },
   "outputs": [
    {
     "name": "stdout",
     "output_type": "stream",
     "text": [
      "[05:38:23] WARNING: C:/Users/Administrator/workspace/xgboost-win64_release_1.5.1/src/learner.cc:1115: Starting in XGBoost 1.3.0, the default evaluation metric used with the objective 'binary:logistic' was changed from 'error' to 'logloss'. Explicitly set eval_metric if you'd like to restore the old behavior.\n"
     ]
    },
    {
     "data": {
      "text/plain": [
       "XGBClassifier(base_score=0.5, booster='gbtree', colsample_bylevel=1,\n",
       "              colsample_bynode=1, colsample_bytree=1, enable_categorical=False,\n",
       "              gamma=0, gpu_id=-1, importance_type=None,\n",
       "              interaction_constraints='', learning_rate=0.300000012,\n",
       "              max_delta_step=0, max_depth=6, min_child_weight=1, missing=nan,\n",
       "              monotone_constraints='()', n_estimators=100, n_jobs=8,\n",
       "              num_parallel_tree=1, predictor='auto', random_state=0,\n",
       "              reg_alpha=0, reg_lambda=1, scale_pos_weight=1, subsample=1,\n",
       "              tree_method='exact', use_label_encoder=False,\n",
       "              validate_parameters=1, verbosity=None)"
      ]
     },
     "execution_count": 136,
     "metadata": {},
     "output_type": "execute_result"
    }
   ],
   "source": [
    "xgb_model.fit(X_normal_train, y_train)"
   ]
  },
  {
   "cell_type": "code",
   "execution_count": 137,
   "id": "3b9db881",
   "metadata": {
    "ExecuteTime": {
     "end_time": "2022-03-06T04:38:33.800195Z",
     "start_time": "2022-03-06T04:38:33.781256Z"
    }
   },
   "outputs": [],
   "source": [
    "y_pred_xgb = xgb_model.predict(X_normal_test) #making predictions"
   ]
  },
  {
   "cell_type": "code",
   "execution_count": 138,
   "id": "305c68e2",
   "metadata": {
    "ExecuteTime": {
     "end_time": "2022-03-06T04:38:35.146880Z",
     "start_time": "2022-03-06T04:38:35.131923Z"
    }
   },
   "outputs": [
    {
     "data": {
      "text/plain": [
       "array([1, 1, 0, ..., 0, 1, 1])"
      ]
     },
     "execution_count": 138,
     "metadata": {},
     "output_type": "execute_result"
    }
   ],
   "source": [
    "y_pred_xgb"
   ]
  },
  {
   "cell_type": "code",
   "execution_count": 139,
   "id": "89dac16f",
   "metadata": {
    "ExecuteTime": {
     "end_time": "2022-03-06T04:38:35.858185Z",
     "start_time": "2022-03-06T04:38:35.848211Z"
    }
   },
   "outputs": [
    {
     "data": {
      "text/plain": [
       "array([[ 648,   64],\n",
       "       [  45, 1243]], dtype=int64)"
      ]
     },
     "execution_count": 139,
     "metadata": {},
     "output_type": "execute_result"
    }
   ],
   "source": [
    "confusion_matrix(y_test, y_pred_xgb)"
   ]
  },
  {
   "cell_type": "code",
   "execution_count": 140,
   "id": "6c341cc2",
   "metadata": {
    "ExecuteTime": {
     "end_time": "2022-03-06T04:38:37.097361Z",
     "start_time": "2022-03-06T04:38:37.076380Z"
    }
   },
   "outputs": [
    {
     "data": {
      "text/plain": [
       "0.9455"
      ]
     },
     "execution_count": 140,
     "metadata": {},
     "output_type": "execute_result"
    }
   ],
   "source": [
    "accuracy_score(y_test, y_pred_xgb)"
   ]
  },
  {
   "cell_type": "code",
   "execution_count": 145,
   "id": "7b826a28",
   "metadata": {
    "ExecuteTime": {
     "end_time": "2022-03-06T07:52:35.496828Z",
     "start_time": "2022-03-06T07:52:35.483290Z"
    }
   },
   "outputs": [
    {
     "name": "stdout",
     "output_type": "stream",
     "text": [
      "              precision    recall  f1-score   support\n",
      "\n",
      "           0       0.94      0.91      0.92       712\n",
      "           1       0.95      0.97      0.96      1288\n",
      "\n",
      "    accuracy                           0.95      2000\n",
      "   macro avg       0.94      0.94      0.94      2000\n",
      "weighted avg       0.95      0.95      0.95      2000\n",
      "\n"
     ]
    }
   ],
   "source": [
    "print(classification_report(y_test, y_pred_xgb))"
   ]
  },
  {
   "cell_type": "markdown",
   "id": "c18bb846",
   "metadata": {},
   "source": [
    "# lightgbm model"
   ]
  },
  {
   "cell_type": "code",
   "execution_count": null,
   "id": "0fedcd58",
   "metadata": {},
   "outputs": [],
   "source": []
  },
  {
   "cell_type": "code",
   "execution_count": 115,
   "id": "6005f444",
   "metadata": {
    "ExecuteTime": {
     "end_time": "2022-03-06T04:36:09.531576Z",
     "start_time": "2022-03-06T04:36:09.514625Z"
    }
   },
   "outputs": [],
   "source": [
    "import lightgbm as lgb"
   ]
  },
  {
   "cell_type": "code",
   "execution_count": 125,
   "id": "844cf747",
   "metadata": {
    "ExecuteTime": {
     "end_time": "2022-03-06T04:36:59.355611Z",
     "start_time": "2022-03-06T04:36:59.344643Z"
    }
   },
   "outputs": [],
   "source": [
    "#load dataset into lightgbm\n",
    "data = X_normal_train\n",
    "label = y_train  # binary target\n",
    "\n",
    "train_data = lgb.Dataset(data, label=label)\n",
    "validation_data = lgb.Dataset(X_normal_test, label=y_test, reference=train_data)\n",
    "\n",
    "param = {'num_leaves': 31, 'objective': 'binary'}\n",
    "param['metric'] = ['auc', 'binary_logloss']"
   ]
  },
  {
   "cell_type": "code",
   "execution_count": 126,
   "id": "7a5e6ec3",
   "metadata": {
    "ExecuteTime": {
     "end_time": "2022-03-06T04:37:00.945898Z",
     "start_time": "2022-03-06T04:37:00.646699Z"
    }
   },
   "outputs": [
    {
     "name": "stdout",
     "output_type": "stream",
     "text": [
      "[LightGBM] [Info] Number of positive: 5092, number of negative: 2908\n",
      "[LightGBM] [Warning] Auto-choosing col-wise multi-threading, the overhead of testing was 0.000699 seconds.\n",
      "You can set `force_col_wise=true` to remove the overhead.\n",
      "[LightGBM] [Info] Total Bins 3060\n",
      "[LightGBM] [Info] Number of data points in the train set: 8000, number of used features: 12\n",
      "[LightGBM] [Info] [binary:BoostFromScore]: pavg=0.636500 -> initscore=0.560205\n",
      "[LightGBM] [Info] Start training from score 0.560205\n",
      "[1]\tvalid_0's auc: 0.877141\tvalid_0's binary_logloss: 0.608671\n",
      "[2]\tvalid_0's auc: 0.907176\tvalid_0's binary_logloss: 0.574384\n",
      "[3]\tvalid_0's auc: 0.924718\tvalid_0's binary_logloss: 0.542493\n",
      "[4]\tvalid_0's auc: 0.93089\tvalid_0's binary_logloss: 0.516406\n",
      "[5]\tvalid_0's auc: 0.941375\tvalid_0's binary_logloss: 0.491765\n",
      "[6]\tvalid_0's auc: 0.94439\tvalid_0's binary_logloss: 0.471908\n",
      "[7]\tvalid_0's auc: 0.948611\tvalid_0's binary_logloss: 0.452119\n",
      "[8]\tvalid_0's auc: 0.951434\tvalid_0's binary_logloss: 0.435018\n",
      "[9]\tvalid_0's auc: 0.955933\tvalid_0's binary_logloss: 0.418215\n",
      "[10]\tvalid_0's auc: 0.958186\tvalid_0's binary_logloss: 0.403154\n",
      "[11]\tvalid_0's auc: 0.959913\tvalid_0's binary_logloss: 0.388496\n",
      "[12]\tvalid_0's auc: 0.961352\tvalid_0's binary_logloss: 0.377163\n",
      "[13]\tvalid_0's auc: 0.962709\tvalid_0's binary_logloss: 0.366167\n",
      "[14]\tvalid_0's auc: 0.964113\tvalid_0's binary_logloss: 0.355064\n",
      "[15]\tvalid_0's auc: 0.96614\tvalid_0's binary_logloss: 0.344915\n",
      "[16]\tvalid_0's auc: 0.967865\tvalid_0's binary_logloss: 0.335771\n",
      "[17]\tvalid_0's auc: 0.968965\tvalid_0's binary_logloss: 0.32726\n",
      "[18]\tvalid_0's auc: 0.969646\tvalid_0's binary_logloss: 0.319711\n",
      "[19]\tvalid_0's auc: 0.971136\tvalid_0's binary_logloss: 0.31174\n",
      "[20]\tvalid_0's auc: 0.971825\tvalid_0's binary_logloss: 0.304916\n",
      "[21]\tvalid_0's auc: 0.972227\tvalid_0's binary_logloss: 0.298622\n",
      "[22]\tvalid_0's auc: 0.972875\tvalid_0's binary_logloss: 0.29253\n",
      "[23]\tvalid_0's auc: 0.973358\tvalid_0's binary_logloss: 0.286825\n",
      "[24]\tvalid_0's auc: 0.974073\tvalid_0's binary_logloss: 0.28115\n",
      "[25]\tvalid_0's auc: 0.974223\tvalid_0's binary_logloss: 0.276233\n",
      "[26]\tvalid_0's auc: 0.975105\tvalid_0's binary_logloss: 0.270881\n",
      "[27]\tvalid_0's auc: 0.975638\tvalid_0's binary_logloss: 0.266484\n",
      "[28]\tvalid_0's auc: 0.976277\tvalid_0's binary_logloss: 0.261836\n",
      "[29]\tvalid_0's auc: 0.976324\tvalid_0's binary_logloss: 0.258229\n",
      "[30]\tvalid_0's auc: 0.976619\tvalid_0's binary_logloss: 0.25418\n",
      "[31]\tvalid_0's auc: 0.977037\tvalid_0's binary_logloss: 0.250871\n",
      "[32]\tvalid_0's auc: 0.977404\tvalid_0's binary_logloss: 0.247026\n",
      "[33]\tvalid_0's auc: 0.97803\tvalid_0's binary_logloss: 0.243178\n",
      "[34]\tvalid_0's auc: 0.97838\tvalid_0's binary_logloss: 0.239661\n",
      "[35]\tvalid_0's auc: 0.978726\tvalid_0's binary_logloss: 0.236804\n",
      "[36]\tvalid_0's auc: 0.979323\tvalid_0's binary_logloss: 0.233248\n",
      "[37]\tvalid_0's auc: 0.979336\tvalid_0's binary_logloss: 0.230656\n",
      "[38]\tvalid_0's auc: 0.979636\tvalid_0's binary_logloss: 0.227994\n",
      "[39]\tvalid_0's auc: 0.980141\tvalid_0's binary_logloss: 0.224846\n",
      "[40]\tvalid_0's auc: 0.980302\tvalid_0's binary_logloss: 0.222556\n",
      "[41]\tvalid_0's auc: 0.980618\tvalid_0's binary_logloss: 0.21991\n",
      "[42]\tvalid_0's auc: 0.980726\tvalid_0's binary_logloss: 0.218024\n",
      "[43]\tvalid_0's auc: 0.980767\tvalid_0's binary_logloss: 0.215819\n",
      "[44]\tvalid_0's auc: 0.980959\tvalid_0's binary_logloss: 0.213555\n",
      "[45]\tvalid_0's auc: 0.981173\tvalid_0's binary_logloss: 0.211695\n",
      "[46]\tvalid_0's auc: 0.981253\tvalid_0's binary_logloss: 0.210075\n",
      "[47]\tvalid_0's auc: 0.981339\tvalid_0's binary_logloss: 0.208317\n",
      "[48]\tvalid_0's auc: 0.981449\tvalid_0's binary_logloss: 0.206544\n",
      "[49]\tvalid_0's auc: 0.981749\tvalid_0's binary_logloss: 0.20455\n",
      "[50]\tvalid_0's auc: 0.982014\tvalid_0's binary_logloss: 0.202681\n",
      "[51]\tvalid_0's auc: 0.982158\tvalid_0's binary_logloss: 0.201009\n",
      "[52]\tvalid_0's auc: 0.982421\tvalid_0's binary_logloss: 0.199174\n",
      "[53]\tvalid_0's auc: 0.982391\tvalid_0's binary_logloss: 0.197911\n",
      "[54]\tvalid_0's auc: 0.982565\tvalid_0's binary_logloss: 0.196507\n",
      "[55]\tvalid_0's auc: 0.982876\tvalid_0's binary_logloss: 0.194521\n",
      "[56]\tvalid_0's auc: 0.983025\tvalid_0's binary_logloss: 0.19319\n",
      "[57]\tvalid_0's auc: 0.983023\tvalid_0's binary_logloss: 0.191929\n",
      "[58]\tvalid_0's auc: 0.98328\tvalid_0's binary_logloss: 0.190471\n",
      "[59]\tvalid_0's auc: 0.983574\tvalid_0's binary_logloss: 0.18862\n",
      "[60]\tvalid_0's auc: 0.9838\tvalid_0's binary_logloss: 0.186901\n",
      "[61]\tvalid_0's auc: 0.984048\tvalid_0's binary_logloss: 0.185323\n",
      "[62]\tvalid_0's auc: 0.984045\tvalid_0's binary_logloss: 0.184418\n",
      "[63]\tvalid_0's auc: 0.984352\tvalid_0's binary_logloss: 0.182737\n",
      "[64]\tvalid_0's auc: 0.984504\tvalid_0's binary_logloss: 0.181583\n",
      "[65]\tvalid_0's auc: 0.984545\tvalid_0's binary_logloss: 0.180763\n",
      "[66]\tvalid_0's auc: 0.984829\tvalid_0's binary_logloss: 0.179245\n",
      "[67]\tvalid_0's auc: 0.984923\tvalid_0's binary_logloss: 0.178179\n",
      "[68]\tvalid_0's auc: 0.985002\tvalid_0's binary_logloss: 0.177253\n",
      "[69]\tvalid_0's auc: 0.985203\tvalid_0's binary_logloss: 0.175827\n",
      "[70]\tvalid_0's auc: 0.98539\tvalid_0's binary_logloss: 0.174696\n",
      "[71]\tvalid_0's auc: 0.985604\tvalid_0's binary_logloss: 0.173575\n",
      "[72]\tvalid_0's auc: 0.985811\tvalid_0's binary_logloss: 0.172291\n",
      "[73]\tvalid_0's auc: 0.985975\tvalid_0's binary_logloss: 0.171027\n",
      "[74]\tvalid_0's auc: 0.986161\tvalid_0's binary_logloss: 0.169758\n",
      "[75]\tvalid_0's auc: 0.986063\tvalid_0's binary_logloss: 0.169519\n",
      "[76]\tvalid_0's auc: 0.986208\tvalid_0's binary_logloss: 0.168568\n",
      "[77]\tvalid_0's auc: 0.986278\tvalid_0's binary_logloss: 0.16778\n",
      "[78]\tvalid_0's auc: 0.9864\tvalid_0's binary_logloss: 0.166876\n",
      "[79]\tvalid_0's auc: 0.98655\tvalid_0's binary_logloss: 0.165868\n",
      "[80]\tvalid_0's auc: 0.986658\tvalid_0's binary_logloss: 0.164894\n",
      "[81]\tvalid_0's auc: 0.98679\tvalid_0's binary_logloss: 0.163954\n",
      "[82]\tvalid_0's auc: 0.986882\tvalid_0's binary_logloss: 0.163205\n",
      "[83]\tvalid_0's auc: 0.987025\tvalid_0's binary_logloss: 0.162207\n",
      "[84]\tvalid_0's auc: 0.987093\tvalid_0's binary_logloss: 0.161526\n",
      "[85]\tvalid_0's auc: 0.987097\tvalid_0's binary_logloss: 0.160833\n",
      "[86]\tvalid_0's auc: 0.987052\tvalid_0's binary_logloss: 0.160544\n",
      "[87]\tvalid_0's auc: 0.987136\tvalid_0's binary_logloss: 0.159917\n",
      "[88]\tvalid_0's auc: 0.987175\tvalid_0's binary_logloss: 0.159276\n",
      "[89]\tvalid_0's auc: 0.987257\tvalid_0's binary_logloss: 0.158522\n",
      "[90]\tvalid_0's auc: 0.987389\tvalid_0's binary_logloss: 0.15762\n",
      "[91]\tvalid_0's auc: 0.987408\tvalid_0's binary_logloss: 0.157102\n",
      "[92]\tvalid_0's auc: 0.987502\tvalid_0's binary_logloss: 0.156309\n",
      "[93]\tvalid_0's auc: 0.987629\tvalid_0's binary_logloss: 0.155491\n",
      "[94]\tvalid_0's auc: 0.987603\tvalid_0's binary_logloss: 0.155177\n",
      "[95]\tvalid_0's auc: 0.987598\tvalid_0's binary_logloss: 0.154838\n",
      "[96]\tvalid_0's auc: 0.987542\tvalid_0's binary_logloss: 0.154564\n",
      "[97]\tvalid_0's auc: 0.98756\tvalid_0's binary_logloss: 0.154227\n",
      "[98]\tvalid_0's auc: 0.987626\tvalid_0's binary_logloss: 0.153609\n",
      "[99]\tvalid_0's auc: 0.98773\tvalid_0's binary_logloss: 0.153046\n",
      "[100]\tvalid_0's auc: 0.987735\tvalid_0's binary_logloss: 0.152482\n"
     ]
    }
   ],
   "source": [
    "#train the model\n",
    "num_round = 100\n",
    "lgb_model = lgb.train(param, train_data, num_round, valid_sets=[validation_data])"
   ]
  },
  {
   "cell_type": "code",
   "execution_count": 127,
   "id": "8c45aa00",
   "metadata": {
    "ExecuteTime": {
     "end_time": "2022-03-06T04:37:06.226949Z",
     "start_time": "2022-03-06T04:37:06.201018Z"
    }
   },
   "outputs": [],
   "source": [
    "y_pred_lgb = lgb_model.predict(X_normal_test)"
   ]
  },
  {
   "cell_type": "code",
   "execution_count": 128,
   "id": "9e97f814",
   "metadata": {
    "ExecuteTime": {
     "end_time": "2022-03-06T04:37:06.909129Z",
     "start_time": "2022-03-06T04:37:06.891206Z"
    }
   },
   "outputs": [
    {
     "name": "stdout",
     "output_type": "stream",
     "text": [
      "[0.99154728 0.99116598 0.02086899 ... 0.04873503 0.58191944 0.92524808]\n"
     ]
    }
   ],
   "source": [
    "print(y_pred_lgb)"
   ]
  },
  {
   "cell_type": "code",
   "execution_count": 129,
   "id": "2f198004",
   "metadata": {
    "ExecuteTime": {
     "end_time": "2022-03-06T04:37:09.083883Z",
     "start_time": "2022-03-06T04:37:08.868459Z"
    }
   },
   "outputs": [
    {
     "name": "stdout",
     "output_type": "stream",
     "text": [
      "0.9915472815606889\n",
      "0.9911659769897818\n",
      "0.020868987167236962\n",
      "0.022599874791573143\n",
      "0.9944471149059287\n",
      "0.08332119682763353\n",
      "0.997954318085473\n",
      "0.9669139877483472\n",
      "0.8390097408247202\n",
      "0.021348248170943357\n",
      "0.9987003184417863\n",
      "0.032649429949574295\n",
      "0.8730969637812409\n",
      "0.035959844677649656\n",
      "0.9968771953077311\n",
      "0.942867024702245\n",
      "0.9845302202477618\n",
      "0.9774370443281555\n",
      "0.02604192647886772\n",
      "0.018303174020822256\n",
      "0.0609816489585034\n",
      "0.4605210880891786\n",
      "0.9993341074075613\n",
      "0.9315526397961014\n",
      "0.5785813933072742\n",
      "0.9995491199549137\n",
      "0.9755323604620981\n",
      "0.17380767896032276\n",
      "0.8457882936915041\n",
      "0.5234021288958087\n",
      "0.9988124759968809\n",
      "0.8597962354236319\n",
      "0.9988950360089426\n",
      "0.4467304981852061\n",
      "0.9985873263290816\n",
      "0.058056650460362236\n",
      "0.9995477543728799\n",
      "0.8737448236568164\n",
      "0.6480731868871515\n",
      "0.14976697437447914\n",
      "0.999362966588229\n",
      "0.3901465568599424\n",
      "0.9752840611331397\n",
      "0.9789477889547871\n",
      "0.06575938414583896\n",
      "0.993038308264875\n",
      "0.9992630453561865\n",
      "0.9911220895076528\n",
      "0.024183010889660704\n",
      "0.9983775851175506\n",
      "0.9995084184850547\n",
      "0.012891045370291511\n",
      "0.8134367491732968\n",
      "0.9970650960417314\n",
      "0.01857067020546089\n",
      "0.907158838384646\n",
      "0.341082914797043\n",
      "0.9191767762808659\n",
      "0.40561276034418886\n",
      "0.6392333991495042\n",
      "0.002306509732334933\n",
      "0.9856805105839969\n",
      "0.6715727177594625\n",
      "0.9990237323699677\n",
      "0.5689843378863577\n",
      "0.027068802912781697\n",
      "0.989360285382401\n",
      "0.9993666269185755\n",
      "0.9941576247640561\n",
      "0.022830360940690117\n",
      "0.9997232241926123\n",
      "0.9575646188650276\n",
      "0.9712201881435047\n",
      "0.9942889329527469\n",
      "0.2704609429965199\n",
      "0.47521826296797254\n",
      "0.9937714074902791\n",
      "0.9673077842247869\n",
      "0.00168749615814201\n",
      "0.5452078353424139\n",
      "0.9890686308021452\n",
      "0.8925925676080003\n",
      "0.014879168325285332\n",
      "0.0023565181916334853\n",
      "0.9753236374837059\n",
      "0.5916373339900847\n",
      "0.16221768526627356\n",
      "0.8790748838051512\n",
      "0.9713538774175545\n",
      "0.8518837144805187\n",
      "0.988942722174426\n",
      "0.003496308553745756\n",
      "0.6135249008621547\n",
      "0.9980351887700288\n",
      "0.9921613994394638\n",
      "0.9500604541366237\n",
      "0.5853499195279087\n",
      "0.9989507952678167\n",
      "0.009820069497300462\n",
      "0.9565223581929606\n",
      "0.9402129850179407\n",
      "0.2301432589501283\n",
      "0.011693707188787839\n",
      "0.08108692034399458\n",
      "0.0313538647211602\n",
      "0.997604228785589\n",
      "0.9975224536446569\n",
      "0.9294350831020092\n",
      "0.050253774409332146\n",
      "0.9997251036773862\n",
      "0.999057520560878\n",
      "0.260065841890071\n",
      "0.8972391301397097\n",
      "0.5506549621503942\n",
      "0.9883053643321117\n",
      "0.9941593230460262\n",
      "0.9826709725211256\n",
      "0.015081388105734684\n",
      "0.538417914651397\n",
      "0.9969124640214007\n",
      "0.8215057121666397\n",
      "0.057175403554225526\n",
      "0.9332511641802609\n",
      "0.8934922678650097\n",
      "0.9134388125409382\n",
      "0.01487968075009612\n",
      "0.8197159903898443\n",
      "0.977547802432283\n",
      "0.9922393665250312\n",
      "0.997674869491479\n",
      "0.8935666429760434\n",
      "0.0015846186043035147\n",
      "0.8911497814615691\n",
      "0.6313379668782687\n",
      "0.7868661029059193\n",
      "0.33254725603393115\n",
      "0.002508971224596987\n",
      "0.8904045970133949\n",
      "0.9997023846129971\n",
      "0.9965640021312834\n",
      "0.9994399200457551\n",
      "0.9987111686458064\n",
      "0.999607670146621\n",
      "0.013975409717382549\n",
      "0.9869360290315771\n",
      "0.2900111968908706\n",
      "0.9995447247947015\n",
      "0.9978146044813272\n",
      "0.9994965731944757\n",
      "0.15938099388742655\n",
      "0.9166532923922903\n",
      "0.9165177082975027\n",
      "0.98763861016831\n",
      "0.04445989168158422\n",
      "0.978397743539656\n",
      "0.8748205971496807\n",
      "0.485722153638793\n",
      "0.9431344692396819\n",
      "0.9609674620208041\n",
      "0.9983378645383035\n",
      "0.9414992065076547\n",
      "0.9980574037336079\n",
      "0.33655582770559944\n",
      "0.002707937780694679\n",
      "0.7849500300423814\n",
      "0.9827459099290038\n",
      "0.999588712320511\n",
      "0.10654520367930234\n",
      "0.9752100222369099\n",
      "0.9986771295335665\n",
      "0.9888286036263382\n",
      "0.9845486203490459\n",
      "0.7953087222315367\n",
      "0.05455039483646719\n",
      "0.14139298089699348\n",
      "0.9043388589848286\n",
      "0.45353656872018444\n",
      "0.9874041465608991\n",
      "0.9501740854079458\n",
      "0.06346352505543773\n",
      "0.9985517144856325\n",
      "0.9879651507988965\n",
      "0.9278777415856356\n",
      "0.9972592097262496\n",
      "0.09502030070637749\n",
      "0.14137817792180107\n",
      "0.14896009776445762\n",
      "0.3727378001334352\n",
      "0.9983961096086267\n",
      "0.5270527247024857\n",
      "0.03195925661804209\n",
      "0.6371815146471568\n",
      "0.9935677059015225\n",
      "0.9988946299417151\n",
      "0.061435370046884034\n",
      "0.005052508953664367\n",
      "0.7513860969417655\n",
      "0.6926452422534893\n",
      "0.9692429762459306\n",
      "0.7362244073300223\n",
      "0.9972231972506999\n",
      "0.998794736342031\n",
      "0.9736505222700964\n",
      "0.005948606387422474\n",
      "0.013063189997184812\n",
      "0.9876299713016408\n",
      "0.5053233194763951\n",
      "0.9992968558734941\n",
      "0.9944561480396377\n",
      "0.7800070253940156\n",
      "0.13490213808957266\n",
      "0.7603685319946153\n",
      "0.9995967565107065\n",
      "0.9994846455267998\n",
      "0.9737362004770825\n",
      "0.05005534377404327\n",
      "0.03222074207890628\n",
      "0.9878717241021874\n",
      "0.26736529342194293\n",
      "0.9980893415840575\n",
      "0.9976503078705206\n",
      "0.9964858893084102\n",
      "0.9931188872287691\n",
      "0.9977481225056717\n",
      "0.9956130587026342\n",
      "0.9851287709032249\n",
      "0.9979104027960252\n",
      "0.00778312070180022\n",
      "0.8568611214815429\n",
      "0.9525867201136184\n",
      "0.06880869298930999\n",
      "0.011413199077307956\n",
      "0.9901926588611016\n",
      "0.991679712728598\n",
      "0.9100085242473039\n",
      "0.8398902419964344\n",
      "0.47464752797777965\n",
      "0.933792161688454\n",
      "0.9053434416479539\n",
      "0.9893114018566878\n",
      "0.8709375677934965\n",
      "0.03516140620205416\n",
      "0.9716183374806262\n",
      "0.8481003925923691\n",
      "0.649593835282873\n",
      "0.9995166505864114\n",
      "0.9887056125285922\n",
      "0.9954905028814692\n",
      "0.005538132083682614\n",
      "0.9704674116134443\n",
      "0.10257895430620324\n",
      "0.9381711821861545\n",
      "0.026251419993034767\n",
      "0.006732685089210162\n",
      "0.9945664410950205\n",
      "0.9986831704230399\n",
      "0.7791421140255778\n",
      "0.9992215279922047\n",
      "0.9968518644370787\n",
      "0.0010829297397794183\n",
      "0.9710133474699632\n",
      "0.986389013081373\n",
      "0.999561366199001\n",
      "0.9990449341783659\n",
      "0.9982424981351729\n",
      "0.6041443375248813\n",
      "0.9976730412686546\n",
      "0.9720911945124829\n",
      "0.9921613659315788\n",
      "0.9330115527592729\n",
      "0.01621236845951981\n",
      "0.24037578074667676\n",
      "0.9173595819496071\n",
      "0.9985210028560672\n",
      "0.9952364316492289\n",
      "0.9970346763002154\n",
      "0.5186513278381231\n",
      "0.9977192228486164\n",
      "0.11967129363556274\n",
      "0.9991318051126448\n",
      "0.14585299396056162\n",
      "0.9269811801364813\n",
      "0.4491576652107057\n",
      "0.7631182424662099\n",
      "0.9753995730023253\n",
      "0.0031258950384674684\n",
      "0.99959802416542\n",
      "0.9995028942991917\n",
      "0.9992607833080943\n",
      "0.9972914096244686\n",
      "0.9989550824207333\n",
      "0.8950352003053196\n",
      "0.9973995639108456\n",
      "0.9987388014852048\n",
      "0.9996503787872788\n",
      "0.02061641096142474\n",
      "0.9988237776245565\n",
      "0.003639910224365855\n",
      "0.16969729609286785\n",
      "0.05400774995827461\n",
      "0.11400622035451864\n",
      "0.9976897463605181\n",
      "0.9975995857831823\n",
      "0.044942222392794\n",
      "0.9986209090603272\n",
      "0.48141171395948545\n",
      "0.1441906967778519\n",
      "0.9556748491821369\n",
      "0.9987347792639013\n",
      "0.05051904777061549\n",
      "0.9680584659487643\n",
      "0.03014523230235997\n",
      "0.9997140830690215\n",
      "0.0015092427627586224\n",
      "0.9420515315650628\n",
      "0.9971461524718138\n",
      "0.9218618281914474\n",
      "0.11587378283821205\n",
      "0.007907415996778779\n",
      "0.6165384100873235\n",
      "0.9993564747399103\n",
      "0.5634797653408363\n",
      "0.004712859459142396\n",
      "0.9870018988466278\n",
      "0.9702000127473354\n",
      "0.3751407570202861\n",
      "0.9821950280928299\n",
      "0.03903287541318502\n",
      "0.9936254085514076\n",
      "0.13376644579238073\n",
      "0.35335989775370974\n",
      "0.1715245589113771\n",
      "0.27423200453618257\n",
      "0.10847476435366772\n",
      "0.004293065501765205\n",
      "0.05489641891463888\n",
      "0.8601640308906305\n",
      "0.9895888698357007\n",
      "0.9847723850184599\n",
      "0.005538701904666162\n",
      "0.005725927597601466\n",
      "0.9569835183538932\n",
      "0.09355796938610847\n",
      "0.9923951447204399\n",
      "0.9987823137695775\n",
      "0.9927775756956414\n",
      "0.9961454919005958\n",
      "0.9990478638879793\n",
      "0.999556547040787\n",
      "0.017478408795571967\n",
      "0.9330326731844033\n",
      "0.9965529358998492\n",
      "0.9997213488937082\n",
      "0.9743158625035366\n",
      "0.8768751237446732\n",
      "0.9996577721109543\n",
      "0.011476925197244739\n",
      "0.9707264320194902\n",
      "0.9990955359246455\n",
      "0.9992252150480286\n",
      "0.9977618724835831\n",
      "0.9973828908328962\n",
      "0.9868893051946135\n",
      "0.9981413876239442\n",
      "0.03773431147993003\n",
      "0.8790838344683044\n",
      "0.7705490665569873\n",
      "0.9719854042168602\n",
      "0.5106218407301171\n",
      "0.8327399536209628\n",
      "0.008641841298644336\n",
      "0.008334248055736508\n",
      "0.9932880708520653\n",
      "0.11516659290847667\n",
      "0.7553078742966375\n",
      "0.022501482645929292\n",
      "0.9976043462764824\n",
      "0.9962426749180996\n",
      "0.0243153879346087\n",
      "0.9889045765224317\n",
      "0.9996369757682589\n",
      "0.887420462356286\n",
      "0.92790376233819\n",
      "0.7304247933283121\n",
      "0.9931241948261686\n",
      "0.008272790477066371\n",
      "0.998322653069588\n",
      "0.9931460355330036\n",
      "0.13268499043117885\n",
      "0.9542170950937654\n",
      "0.9988465652265774\n",
      "0.0041943429642103906\n",
      "0.997677338243678\n",
      "0.05195340623606976\n",
      "0.06152449581117461\n",
      "0.9133264131444414\n",
      "0.9300318783497573\n",
      "0.9958791820270466\n",
      "0.6543454200052072\n",
      "0.990336551081717\n",
      "0.3772076402731692\n",
      "0.9954927779704945\n",
      "0.05353360445814564\n",
      "0.9970977784538692\n",
      "0.9633107767051124\n",
      "0.9866111951204409\n",
      "0.988328200663589\n",
      "0.7005519274746755\n",
      "0.15738993649296038\n",
      "0.9096254845276927\n",
      "0.004723948325268963\n",
      "0.9965242778607659\n",
      "0.9493608392137473\n",
      "0.1409284878914253\n",
      "0.889754384718733\n",
      "0.9986575763688299\n",
      "0.8481967355227983\n",
      "0.9989335374578322\n",
      "0.9989290006777038\n",
      "0.9740331717786083\n",
      "0.014356693765998718\n",
      "0.9840637214461753\n",
      "0.996841725586598\n",
      "0.6067263101297582\n",
      "0.011101953451773325\n",
      "0.038941292851841294\n",
      "0.7150723562716598\n",
      "0.987284173644013\n",
      "0.0019435263662791293\n",
      "0.7502531562661279\n",
      "0.9982773808704707\n",
      "0.9901960210094446\n",
      "0.7110163646508939\n",
      "0.9895367090959004\n",
      "0.9489437676316684\n",
      "0.0064981465852857875\n",
      "0.9994828127338797\n",
      "0.993714472987349\n",
      "0.9876014771982636\n",
      "0.01604309314048501\n",
      "0.7488849258906465\n",
      "0.8647980521771235\n",
      "0.5423262239611064\n",
      "0.9289457890785862\n",
      "0.8389521696201852\n",
      "0.01640626231370281\n",
      "0.9873085011751855\n",
      "0.6523940050547644\n",
      "0.0049600304624220996\n",
      "0.021263711850760692\n",
      "0.765827650931136\n",
      "0.9982001059676906\n",
      "0.04091448828486705\n",
      "0.9932173996362093\n",
      "0.006907741347648369\n",
      "0.9899436915178387\n",
      "0.5196078621879384\n",
      "0.9040648157251971\n",
      "0.04725726659665302\n",
      "0.9994491132657445\n",
      "0.8556612956044748\n",
      "0.9995595749296661\n",
      "0.4657948601053398\n",
      "0.8136748490199907\n",
      "0.4091173373719872\n",
      "0.6037144970082354\n",
      "0.38198776326951156\n",
      "0.9619364112022354\n",
      "0.7535006308626911\n",
      "0.767143640355785\n",
      "0.02000964759190132\n",
      "0.9825682002050955\n",
      "0.8194280496341343\n",
      "0.6150593673557304\n",
      "0.9996590011929869\n",
      "0.014536375172494339\n",
      "0.9606762462890852\n",
      "0.9978927527128394\n",
      "0.9993401458858728\n",
      "0.9482760318528877\n",
      "0.003022282812178951\n",
      "0.9891163092201629\n",
      "0.04294191260518668\n",
      "0.15526455134527423\n",
      "0.9824703614152035\n",
      "0.00543987339394871\n",
      "0.03990680503952107\n",
      "0.9377829037481786\n",
      "0.9990561847020099\n",
      "0.9993144158392608\n",
      "0.9961904423773256\n",
      "0.8631920906719702\n",
      "0.02617237660397225\n",
      "0.7944425384865826\n",
      "0.8913187540458676\n",
      "0.9505753242226228\n",
      "0.999568549802299\n",
      "0.8441030983698593\n",
      "0.9891056215821802\n",
      "0.9956896220206587\n",
      "0.5702771447239255\n",
      "0.09593434025965186\n",
      "0.9875070001399229\n",
      "0.13763674625004968\n",
      "0.5012498421189099\n",
      "0.10706093125839859\n",
      "0.999607164873314\n",
      "0.46352405774173755\n",
      "0.1013487964654537\n",
      "0.006088713353914566\n",
      "0.392284915262125\n",
      "0.9289662287953706\n",
      "0.9985518147128868\n",
      "0.9991413225496685\n",
      "0.02945086523291978\n",
      "0.9935754710810669\n",
      "0.044687119774645005\n",
      "0.06125271199628613\n",
      "0.0020454376973056136\n",
      "0.7951867232174507\n",
      "0.9508035140663049\n",
      "0.5608022720854908\n",
      "0.9874453854620946\n",
      "0.9919858994109243\n",
      "0.07222202140781127\n",
      "0.9810457668264351\n",
      "0.32252116747790877\n",
      "0.9996055616479342\n",
      "0.995135231691369\n",
      "0.30353822864327673\n",
      "0.16528868704704996\n",
      "0.99836314216895\n",
      "0.9029883856534331\n",
      "0.007552037542559442\n",
      "0.9993790194249094\n",
      "0.166820056918349\n",
      "0.9495703295426209\n",
      "0.0020029211860839932\n",
      "0.8921477437948703\n",
      "0.01987179412948839\n",
      "0.998169070754495\n",
      "0.9953064080129788\n",
      "0.9762195446554153\n",
      "0.11966488934359276\n",
      "0.04317677190310081\n",
      "0.5948445216397014\n",
      "0.1652808128479442\n",
      "0.9903514558198613\n",
      "0.2601773214510022\n",
      "0.9876514931973766\n",
      "0.9043118504131912\n",
      "0.9958606687805097\n",
      "0.09372928401647276\n",
      "0.9762711205973575\n",
      "0.7769968691708553\n",
      "0.9626774484923121\n",
      "0.002475205722604928\n",
      "0.6710846033412017\n",
      "0.04353136793536665\n",
      "0.911597695485794\n",
      "0.9817580751452502\n",
      "0.01164563064349678\n",
      "0.7592188970395881\n",
      "0.9996824963877884\n",
      "0.9883233183463895\n",
      "0.879677848980467\n",
      "0.9544707793993021\n",
      "0.977600098446318\n",
      "0.9791020586061081\n",
      "0.9607607264642571\n",
      "0.8683657912307255\n",
      "0.99513854003104\n",
      "0.9954020424399468\n",
      "0.982389450899481\n",
      "0.4175295399975539\n",
      "0.003388068516513089\n",
      "0.9987703779992892\n",
      "0.005099525040173821\n",
      "0.9991795560670618\n",
      "0.9994819667794985\n",
      "0.8890754357847824\n",
      "0.6576484428575728\n",
      "0.9997491239384932\n",
      "0.8689105384372505\n",
      "0.1635736355862051\n",
      "0.009833937353850882\n",
      "0.9762727609070717\n",
      "0.9942869284708896\n",
      "0.005725245246661721\n",
      "0.995624812469044\n",
      "0.9971024850371547\n",
      "0.9182063517764053\n",
      "0.999623711211843\n",
      "0.001845655306473971\n",
      "0.9979726074423546\n",
      "0.2263222834611869\n",
      "0.9829831705624382\n",
      "0.87583856979496\n",
      "0.9612515632898045\n",
      "0.02222228202042666\n",
      "0.9995525736737632\n",
      "0.971863958783311\n",
      "0.9997217469028603\n",
      "0.19821053372144717\n",
      "0.006432881221168003\n",
      "0.35767061607636963\n",
      "0.9993015273080167\n",
      "0.06782390766175236\n",
      "0.9987308255767076\n",
      "0.9963084469263837\n",
      "0.02475622369778279\n",
      "0.9464732206064799\n",
      "0.34141342758400417\n",
      "0.9994775753917371\n",
      "0.8830110256674021\n",
      "0.005059500964721113\n",
      "0.6869242717814571\n",
      "0.98373358863087\n",
      "0.01131778562307116\n",
      "0.9713917847012015\n",
      "0.9961427622398088\n",
      "0.9352937040439114\n",
      "0.9698497573797213\n",
      "0.617103232313387\n",
      "0.447829404429985\n",
      "0.9980251207830959\n",
      "0.9544210970352851\n",
      "0.9970651976640229\n",
      "0.9477347027477943\n",
      "0.5645319491620032\n",
      "0.9159334095539307\n",
      "0.9925688600225188\n",
      "0.29372351730300983\n",
      "0.9981835433910301\n",
      "0.013993545130512815\n",
      "0.22595470709964363\n",
      "0.9155072475202863\n",
      "0.07042541316360473\n",
      "0.8197652160950336\n",
      "0.9734394640914027\n",
      "0.27700450557380374\n",
      "0.9990196573295309\n",
      "0.8143371029297471\n",
      "0.05059446572017146\n",
      "0.9996761999268644\n",
      "0.9466260464903118\n",
      "0.997677900550809\n",
      "0.9981505414868007\n",
      "0.02899266804425171\n",
      "0.999356519324732\n",
      "0.992608726230299\n",
      "0.9640770511443336\n",
      "0.3598924415380148\n",
      "0.03415024542378938\n",
      "0.993218171606594\n",
      "0.9285828460881252\n",
      "0.2564322187438166\n",
      "0.8247341517683633\n",
      "0.995233505741093\n",
      "0.9927183669686754\n",
      "0.0035720136416592086\n",
      "0.028859195754514108\n",
      "0.2584748768765276\n",
      "0.33557562621697334\n",
      "0.9706178807148766\n",
      "0.9995758531260833\n",
      "0.6458486867846545\n",
      "0.989145741260807\n",
      "0.9852136512305439\n",
      "0.9994722151133899\n",
      "0.5979114109634192\n",
      "0.8168103843658822\n",
      "0.508666542271744\n",
      "0.9890181846881019\n",
      "0.992538725548321\n",
      "0.26065885633895314\n",
      "0.5801663147759146\n",
      "0.005628125569370764\n",
      "0.3106714270959299\n",
      "0.9150387831309269\n",
      "0.5760064233504921\n",
      "0.9981465523297969\n",
      "0.9974626704137726\n",
      "0.9930956727782596\n",
      "0.9143869798468947\n",
      "0.899912865617816\n",
      "0.05976381215909041\n",
      "0.09208586031653339\n",
      "0.9770469925676089\n",
      "0.9754169958188917\n",
      "0.7812361063391127\n",
      "0.9476255423504958\n",
      "0.3201423571387787\n",
      "0.9977669765640681\n",
      "0.9991386051841366\n",
      "0.045706088768217815\n",
      "0.996720277351012\n",
      "0.9656908198689642\n",
      "0.6906738078747553\n",
      "0.9970381226238466\n",
      "0.9976264888543844\n",
      "0.005431313429701881\n",
      "0.03366799084272915\n",
      "0.9996493506284061\n",
      "0.9294683604579729\n",
      "0.950088716898152\n",
      "0.0024032693563012675\n",
      "0.9966134909639697\n",
      "0.2912658868723975\n",
      "0.9535128244913645\n",
      "0.07176007209553391\n",
      "0.10757673483885018\n",
      "0.14384590182481408\n",
      "0.7348829377919714\n",
      "0.0037413016317438684\n",
      "0.018016204843495098\n",
      "0.0029524037315403766\n",
      "0.8096691898423016\n",
      "0.18291986890345957\n",
      "0.026930035170842366\n",
      "0.718087804353156\n",
      "0.004012741535382597\n",
      "0.6622388697882182\n",
      "0.019680643544480157\n",
      "0.9995161261064452\n",
      "0.11428735099289843\n",
      "0.9981474313890748\n",
      "0.016675669265426303\n",
      "0.9722279725294158\n",
      "0.004224176029300547\n",
      "0.9799839906402735\n",
      "0.1987076308033103\n",
      "0.98504136914311\n",
      "0.03908947661476557\n",
      "0.9954690759741066\n",
      "0.9993214405187434\n",
      "0.05641355603841032\n",
      "0.9993435313262703\n",
      "0.8638120607625379\n",
      "0.008440746443666344\n",
      "0.10044035672819769\n",
      "0.7593173938048288\n",
      "0.044279852597043645\n",
      "0.09630377811704191\n",
      "0.015318323104617686\n",
      "0.23571441716900837\n",
      "0.9316484729199451\n",
      "0.9833934452683305\n",
      "0.016975413262075995\n",
      "0.9808917119568656\n",
      "0.8744781920338616\n",
      "0.998441731209996\n",
      "0.9903212910999082\n",
      "0.995938136999407\n",
      "0.9993545929460836\n",
      "0.9993775968294707\n",
      "0.8039099598178544\n",
      "0.030427073541331725\n",
      "0.08677001382122077\n",
      "0.01208469211061658\n",
      "0.6388253651909126\n",
      "0.9546804474904342\n",
      "0.9988279291841479\n",
      "0.9970585561941521\n",
      "0.15425289015372737\n",
      "0.9974974138640471\n",
      "0.002757124632505813\n",
      "0.018527035716211053\n",
      "0.6140308973976929\n",
      "0.8529223398346529\n",
      "0.9885634842671575\n",
      "0.9795310273587939\n",
      "0.6817286706992429\n",
      "0.9986243129263023\n",
      "0.3686947445005887\n",
      "0.019828010288592483\n",
      "0.9716960487618441\n",
      "0.9619802391203628\n",
      "0.8946698349146874\n",
      "0.9996585372463107\n",
      "0.9691861930355303\n",
      "0.23166556074123615\n",
      "0.02263211575161121\n",
      "0.999011432698291\n",
      "0.003799891830193303\n",
      "0.9977947227760489\n",
      "0.07527951819001459\n",
      "0.8636043551736023\n",
      "0.04160903707006381\n",
      "0.995253727059738\n",
      "0.9893557133130395\n",
      "0.9971219948128515\n",
      "0.23771841004770086\n",
      "0.021083598502769925\n",
      "0.913369322852481\n",
      "0.9101763761450297\n",
      "0.29387456177263127\n",
      "0.7204283974580864\n",
      "0.9854260179239093\n",
      "0.9429713334456342\n",
      "0.04682763659885175\n",
      "0.977789034399161\n",
      "0.44006034988920995\n",
      "0.9932940631900505\n",
      "0.99360831257089\n",
      "0.6543968106729446\n",
      "0.9775222203088025\n",
      "0.9935337367563148\n",
      "0.9949839405393863\n",
      "0.972154075805161\n",
      "0.980945741616726\n",
      "0.5645768447764916\n",
      "0.9996861852819096\n",
      "0.23306659221336645\n",
      "0.011017773876176713\n",
      "0.9961850472087469\n",
      "0.8476302045524305\n",
      "0.9960623427733233\n",
      "0.998634745753663\n",
      "0.00628443162274051\n",
      "0.002518324865895344\n",
      "0.9983740874691795\n",
      "0.9972121741423717\n",
      "0.9995565398700654\n",
      "0.0008958394279054362\n",
      "0.20422107419931235\n",
      "0.14321529145362494\n",
      "0.6221142787751196\n",
      "0.9920844686482645\n",
      "0.015410125123739654\n",
      "0.9924426218207689\n",
      "0.08864374536984805\n",
      "0.98064302714702\n",
      "0.8328234406871293\n",
      "0.01282205212906563\n",
      "0.023995378268262407\n",
      "0.014717560033180416\n",
      "0.007514245087878951\n",
      "0.8516592768119774\n",
      "0.014686071460076403\n",
      "0.785024035346017\n",
      "0.026840540656549637\n",
      "0.9967799856479088\n",
      "0.9714469467899594\n",
      "0.007766933816751027\n",
      "0.9914364693514582\n",
      "0.9980048740753675\n",
      "0.2527390734068653\n",
      "0.9983490454241628\n",
      "0.8532465741652118\n",
      "0.9836427300421774\n",
      "0.998369373897868\n",
      "0.99635331765811\n",
      "0.9910314200218336\n",
      "0.9834148902365231\n",
      "0.9995740831139689\n",
      "0.010649563091735632\n",
      "0.9038964051338843\n",
      "0.6784799003228389\n",
      "0.9936386588859978\n",
      "0.9995234526508312\n",
      "0.9285575788691043\n",
      "0.9735304058803166\n",
      "0.7949985801725955\n",
      "0.009517147475957643\n",
      "0.047917885471090084\n",
      "0.9967952198643105\n",
      "0.9993624672568747\n",
      "0.002548842356695991\n",
      "0.2021954202332285\n",
      "0.9971465358156726\n",
      "0.1701580369952603\n",
      "0.9740151946749649\n",
      "0.8367483801227258\n",
      "0.9856839158297231\n",
      "0.9391210912267733\n",
      "0.5808162160200425\n",
      "0.9091200751055672\n",
      "0.9949054170528203\n",
      "0.5993707530234241\n",
      "0.999292185454401\n",
      "0.0033552698674422198\n",
      "0.9853652665900889\n",
      "0.016623919752842584\n",
      "0.4152610629056758\n",
      "0.9878911015125623\n",
      "0.8055085088289621\n",
      "0.997124053380111\n",
      "0.3152100951768355\n",
      "0.0023845252442169403\n",
      "0.9994547237403967\n",
      "0.9971408130048013\n",
      "0.007290803421641314\n",
      "0.9958773613817559\n",
      "0.9234750847812088\n",
      "0.6415359691514824\n",
      "0.976658324817195\n",
      "0.33599555031201894\n",
      "0.9943963043746404\n",
      "0.9696279439163463\n",
      "0.6063380910802095\n",
      "0.9826681110355517\n",
      "0.9905580526101969\n",
      "0.971895504947743\n",
      "0.8183469285978598\n",
      "0.9489776872532567\n",
      "0.9995732368840828\n",
      "0.032790463030335934\n",
      "0.09650012531095994\n",
      "0.9850121154697701\n",
      "0.4267559088324144\n",
      "0.990425984994574\n",
      "0.8098369135543859\n",
      "0.004490620902220552\n",
      "0.041829419271127405\n",
      "0.12273765991500958\n",
      "0.9991133882118773\n",
      "0.03527720838372798\n",
      "0.9217507829357203\n",
      "0.997404109403075\n",
      "0.9992873838120101\n",
      "0.022471187774864558\n",
      "0.8200454334295244\n",
      "0.548016317162668\n",
      "0.9963619653751653\n",
      "0.04300725350496848\n",
      "0.5415685532633351\n",
      "0.5928122082613485\n",
      "0.9931425572850094\n",
      "0.08501826821324539\n",
      "0.9993383442829102\n",
      "0.9992605432474658\n",
      "0.9040674313076847\n",
      "0.9993317772114754\n",
      "0.15446172705548564\n",
      "0.9972925349819753\n",
      "0.11481494532940578\n",
      "0.2533240886287487\n",
      "0.952122857268246\n",
      "0.9968199936654699\n",
      "0.05433233689255606\n",
      "0.9992984776546893\n",
      "0.9986857336188796\n",
      "0.7141089389581943\n",
      "0.0026931567820396357\n",
      "0.9994251318228017\n",
      "0.7168194520138997\n",
      "0.0036198289628802346\n",
      "0.9966789511759694\n",
      "0.988627506384962\n",
      "0.9989482784689634\n",
      "0.9664860825060715\n",
      "0.7328781888740658\n",
      "0.01457567808014767\n",
      "0.010168138346873938\n",
      "0.12087500624807546\n",
      "0.9647968529291954\n",
      "0.9116140909863405\n",
      "0.6975865448507681\n",
      "0.03820127830762454\n",
      "0.9935447773669774\n",
      "0.007637950390315725\n",
      "0.008492490493013934\n",
      "0.9988917077196893\n",
      "0.9167454602410444\n",
      "0.9915745425955563\n",
      "0.9965628420691343\n",
      "0.9888390335299827\n",
      "0.18074533712975546\n",
      "0.998744622452639\n",
      "0.9991551076839076\n",
      "0.9423937497640587\n",
      "0.003436352032354714\n",
      "0.9993378047906346\n",
      "0.5173661505963939\n",
      "0.9669565870753103\n",
      "0.9956063471279939\n",
      "0.9990971529057875\n",
      "0.971349453974319\n",
      "0.9993323498682615\n",
      "0.9996867507570271\n",
      "0.20042977598177722\n",
      "0.9992945200761976\n",
      "0.9893734035731303\n",
      "0.9834123796358435\n",
      "0.9949218091291752\n",
      "0.9964907126422701\n",
      "0.9817063705790593\n",
      "0.002892069375155751\n",
      "0.9984326006030969\n",
      "0.8831416549672801\n",
      "0.0033806395791015115\n",
      "0.7939595409714094\n",
      "0.9915135413258764\n",
      "0.9981724388023877\n",
      "0.05966539306554448\n",
      "0.6652930304216357\n",
      "0.0019342685209143395\n",
      "0.9573167018572036\n",
      "0.9954015286703576\n",
      "0.001981853724195176\n",
      "0.6287699946936058\n",
      "0.7625161784891018\n",
      "0.07447344926713381\n",
      "0.9996452586739617\n",
      "0.08750059657932585\n",
      "0.8656801840030236\n",
      "0.5494627494504002\n",
      "0.05958874866236697\n",
      "0.9996518833014673\n",
      "0.1376380932005911\n",
      "0.5023585676205822\n",
      "0.9982690216383358\n",
      "0.4569609775746521\n",
      "0.9840366833757429\n",
      "0.9115563500003794\n",
      "0.879253279841774\n",
      "0.9823700782600622\n",
      "0.08651326970406352\n",
      "0.9971405596922212\n",
      "0.9987708010963791\n",
      "0.9977480519000519\n",
      "0.8355000731126566\n",
      "0.056475786324882996\n",
      "0.5660445420752496\n",
      "0.42382719714314715\n",
      "0.9987653688236803\n",
      "0.8207758892708243\n",
      "0.9997202191017888\n",
      "0.9022024182638871\n",
      "0.057486084112272\n",
      "0.9755126847303119\n",
      "0.15235388390608934\n",
      "0.9957530972237958\n",
      "0.8163853158440724\n",
      "0.40068690520292144\n",
      "0.6112617518836309\n",
      "0.002260000583364914\n",
      "0.9561576860089304\n",
      "0.014120304322280815\n",
      "0.18703572378897623\n",
      "0.9854950907934471\n",
      "0.9463639520811088\n",
      "0.9584323496581942\n",
      "0.9997036094346241\n",
      "0.994305703270708\n",
      "0.9970566581735236\n",
      "0.8064589236348612\n",
      "0.8588775439706899\n",
      "0.9967459637188608\n",
      "0.8415108086542914\n",
      "0.9970717947123537\n",
      "0.9581920585007189\n",
      "0.32441343235831727\n",
      "0.509221866024403\n",
      "0.7681552784119229\n",
      "0.11925497450107977\n",
      "0.585597916453753\n",
      "0.17969582699740663\n",
      "0.980707161861086\n",
      "0.6325046344374996\n",
      "0.9970575417893293\n",
      "0.9995282770664796\n",
      "0.16541924723519538\n",
      "0.8615467219322359\n",
      "0.9638606507560866\n",
      "0.004998459548236386\n",
      "0.0015700927291301264\n",
      "0.9985282147625059\n",
      "0.0045965718585941956\n",
      "0.9501189599882206\n",
      "0.17700506624454695\n",
      "0.026868561640228068\n",
      "0.9025988941207669\n",
      "0.4943356202415526\n",
      "0.02599160462801855\n",
      "0.13916601621216632\n",
      "0.9021595877682397\n",
      "0.9992348715153162\n",
      "0.06384892447842898\n",
      "0.5784489301154944\n",
      "0.9273560446374984\n",
      "0.9030408364499203\n",
      "0.8917788625930728\n",
      "0.9908044957017205\n",
      "0.07229609737146457\n",
      "0.11189092088596826\n",
      "0.05104149068912735\n",
      "0.006129365970599948\n",
      "0.009288264617619047\n",
      "0.9991536865342859\n",
      "0.9932890175797071\n",
      "0.017509569745526903\n",
      "0.4966738826780992\n",
      "0.9842672888785418\n",
      "0.981917297807833\n",
      "0.9993635082627339\n",
      "0.0017034591144245508\n",
      "0.005824885528723042\n",
      "0.26873121921296933\n",
      "0.13765649367871047\n",
      "0.9996995483120796\n",
      "0.8694834094377593\n",
      "0.4879081647015055\n",
      "0.22411491976045822\n",
      "0.6103754105680368\n",
      "0.003318275576212696\n",
      "0.42797373589616267\n",
      "0.15291685196208063\n",
      "0.999634145533595\n",
      "0.7704386989029693\n",
      "0.013973253225987622\n",
      "0.7531131766245359\n",
      "0.7867959740038064\n",
      "0.11999884716338631\n",
      "0.4668515144908962\n",
      "0.9985495933774701\n",
      "0.9901018351246248\n",
      "0.9977652337095736\n",
      "0.3850335326905249\n",
      "0.2990061236633522\n",
      "0.9886548474785083\n",
      "0.9994799693264459\n",
      "0.9582289104189005\n",
      "0.029946680272027237\n",
      "0.9873626910100939\n",
      "0.6426428686857275\n",
      "0.9992953592486264\n",
      "0.9012453038718383\n",
      "0.23764073475978473\n",
      "0.9909020405621283\n",
      "0.9931108056981508\n",
      "0.9108595594965937\n",
      "0.08756956748832015\n",
      "0.9962085450832727\n",
      "0.09138562976569051\n",
      "0.9988673145901753\n",
      "0.04986403097134264\n",
      "0.9938771493899149\n",
      "0.023867585674687046\n",
      "0.2451107496741844\n",
      "0.014430027145634282\n",
      "0.004333454334080345\n",
      "0.9984204715803637\n",
      "0.04169890266261697\n",
      "0.9804256562034561\n",
      "0.998433593183953\n",
      "0.9942362089426567\n",
      "0.013281884530375295\n",
      "0.9994842788374398\n",
      "0.8289374354290147\n",
      "0.003450651256133768\n",
      "0.2613860238452903\n",
      "0.9809436175221875\n",
      "0.9978745101368197\n",
      "0.17442944548346045\n",
      "0.1384895638360142\n",
      "0.9654513100073919\n",
      "0.006615890419694053\n",
      "0.998778034244773\n",
      "0.999594268226254\n",
      "0.019512366950018598\n",
      "0.9949467135295107\n",
      "0.9970308281504985\n",
      "0.9982663702107343\n",
      "0.09595318121492431\n",
      "0.9686558579257132\n",
      "0.901286400286178\n",
      "0.8771658225319307\n",
      "0.9972388315647083\n",
      "0.018690142962045467\n",
      "0.052580806338648284\n",
      "0.045504710377095206\n",
      "0.9802744497089811\n",
      "0.9264066294041411\n",
      "0.9823706310827216\n",
      "0.998277085212352\n",
      "0.9939486007453963\n",
      "0.9924000814962595\n",
      "0.9967415683806716\n",
      "0.9894103906555518\n",
      "0.9984660913537149\n",
      "0.3608268054048983\n",
      "0.9459397029835022\n",
      "0.9981931593835425\n",
      "0.999553813356189\n",
      "0.14022705066494381\n",
      "0.9794500102012808\n",
      "0.3730935834884874\n",
      "0.014297512378685135\n",
      "0.9742379432841289\n",
      "0.03259649567397744\n",
      "0.9965322530873986\n",
      "0.9978120412325521\n",
      "0.8100362325654993\n",
      "0.034818986550034015\n",
      "0.024030572652188425\n",
      "0.998943408396092\n",
      "0.003976882496121505\n",
      "0.05697528589278585\n",
      "0.13620407430415635\n",
      "0.9732839494212483\n",
      "0.0035844806371692958\n",
      "0.4285469247456187\n",
      "0.771982421101629\n",
      "0.9965118801103967\n",
      "0.9965357101003629\n",
      "0.5821187841604405\n",
      "0.4035291082375815\n",
      "0.9536000821406095\n",
      "0.9987454994841538\n",
      "0.2775663219710731\n",
      "0.9864480812659167\n",
      "0.3416411191951796\n",
      "0.003382276076196783\n",
      "0.007967395233481963\n",
      "0.03577659823327981\n",
      "0.997111651758435\n",
      "0.00146637958559795\n",
      "0.06729209469261485\n",
      "0.9996955168994875\n",
      "0.807803303649441\n",
      "0.07794569144769004\n",
      "0.004296938363438231\n",
      "0.011356365924439851\n",
      "0.5048070950263531\n",
      "0.9359857312457891\n",
      "0.9717166704303929\n",
      "0.998784526956355\n",
      "0.11388176729109886\n",
      "0.9994947562280707\n",
      "0.9835562064081639\n",
      "0.9701788476039073\n",
      "0.00387034966751865\n",
      "0.13233813534026587\n",
      "0.9978941935537164\n",
      "0.9967949464472353\n",
      "0.9957061265393761\n",
      "0.999362709874262\n",
      "0.5776286125918657\n",
      "0.0011532924288783484\n",
      "0.025183128484651988\n",
      "0.9535217813995787\n",
      "0.06738273561670152\n",
      "0.994267548472153\n",
      "0.8992903302509685\n",
      "0.9279649501339187\n",
      "0.1006940647605205\n",
      "0.1226472614221371\n",
      "0.9520818029176855\n",
      "0.36778345184393907\n",
      "0.9850504257578642\n",
      "0.9406857627797471\n",
      "0.10536158333418483\n",
      "0.8817323761922915\n",
      "0.9990744052643736\n",
      "0.8577825153660444\n",
      "0.3793745572152392\n",
      "0.424999376758665\n",
      "0.10169854327199762\n",
      "0.9941322040435244\n",
      "0.009626315085456232\n",
      "0.7758915502946813\n",
      "0.6386435663224751\n",
      "0.052094561440119994\n",
      "0.9840296970347046\n",
      "0.9965975036277982\n",
      "0.9968186163882408\n",
      "0.011578653276645298\n",
      "0.996500371464198\n",
      "0.998530212401168\n",
      "0.0073457620110212824\n",
      "0.998920069736874\n",
      "0.34169805957142696\n",
      "0.0014978999117997835\n",
      "0.06629818390410074\n",
      "0.41071510788288573\n",
      "0.9946936175060751\n",
      "0.6711377629782962\n",
      "0.6238848916750496\n",
      "0.1129800892760917\n",
      "0.9937568893180605\n",
      "0.9981362642271305\n",
      "0.003071290304769614\n",
      "0.8452919126878407\n",
      "0.6385256078253221\n",
      "0.9993052028834304\n",
      "0.0023222393794903834\n",
      "0.14603324355569627\n",
      "0.004780105750345212\n",
      "0.9949670735108779\n",
      "0.909693803126009\n",
      "0.8954266162497001\n",
      "0.9774080714052242\n",
      "0.13766704805620658\n",
      "0.05537097501965341\n",
      "0.9993436481841411\n",
      "0.03665081796871382\n",
      "0.9983803976532386\n",
      "0.024331999280689964\n",
      "0.6543655012158911\n",
      "0.9896781958103928\n",
      "0.410941999202761\n",
      "0.0014982915473631246\n",
      "0.48180388678488495\n",
      "0.9972900309848798\n",
      "0.18139249718387856\n",
      "0.9993254492676263\n",
      "0.31722944771455713\n",
      "0.9979851877583783\n",
      "0.9730474721221036\n",
      "0.015429539969192572\n",
      "0.910673154827321\n",
      "0.9848518461860472\n",
      "0.9517383786557381\n",
      "0.9882134300200907\n",
      "0.9989371234196269\n",
      "0.9978884305455715\n",
      "0.9108609955191094\n",
      "0.992796561755287\n",
      "0.4443639943157731\n",
      "0.004467598870123456\n",
      "0.06077976838890132\n",
      "0.36948754794586497\n",
      "0.8053644446031064\n",
      "0.0066052067238003154\n",
      "0.9915281288670961\n",
      "0.8786134928684206\n",
      "0.9737034143668007\n",
      "0.9407293589649417\n",
      "0.19528106139723006\n",
      "0.9773539028226889\n",
      "0.9883095621114588\n",
      "0.7133733015794473\n",
      "0.0033137062884362944\n",
      "0.9532915622171696\n",
      "0.35785656731010135\n",
      "0.9898658330531276\n",
      "0.7106920511436906\n",
      "0.9873957867857701\n",
      "0.009179177675920181\n",
      "0.771510167247436\n",
      "0.9771869538669389\n",
      "0.9668312255580599\n",
      "0.9759349128474918\n",
      "0.9866403708076896\n",
      "0.9686131039487832\n",
      "0.8658464219355791\n",
      "0.9014084475616025\n",
      "0.022023290740455555\n",
      "0.9088980659671696\n",
      "0.00733185868764746\n",
      "0.19131255632578845\n",
      "0.9939004690208388\n",
      "0.007569134906032363\n",
      "0.9606043471741905\n",
      "0.9824234195250805\n",
      "0.6290771129462388\n",
      "0.03662158386963918\n",
      "0.9987209860941436\n",
      "0.9144543411480439\n",
      "0.9967627844200263\n",
      "0.9988966460064047\n",
      "0.999357151445359\n",
      "0.7177989952693974\n",
      "0.9983684555652451\n",
      "0.004299701661141751\n",
      "0.5740973463332597\n",
      "0.9969957204103418\n",
      "0.07131711599167105\n",
      "0.9955988431439526\n",
      "0.9996480673220884\n",
      "0.969759003011405\n",
      "0.9978053349850114\n",
      "0.12427820573824415\n",
      "0.06605025592590476\n",
      "0.9639661469079392\n",
      "0.9996665917347637\n",
      "0.9989235953740659\n",
      "0.9939712275885173\n",
      "0.9880785861063816\n",
      "0.18529724452208848\n",
      "0.9975999073012844\n",
      "0.10541382911904632\n",
      "0.9740062380330673\n",
      "0.9963199280467829\n",
      "0.0011871560456675194\n",
      "0.06968251450815519\n",
      "0.43132560865877895\n",
      "0.9930494150543409\n",
      "0.9985022771822711\n",
      "0.9996407812172682\n",
      "0.9986906566615813\n",
      "0.9620750779328389\n",
      "0.8182685545813868\n",
      "0.011346383921530968\n",
      "0.9663234265683409\n",
      "0.02405131386208021\n",
      "0.9965393713020428\n",
      "0.8887452842127989\n",
      "0.24143079716755983\n",
      "0.9887147839092684\n",
      "0.006845016392616464\n",
      "0.9633917464031175\n",
      "0.17546491412184542\n",
      "0.9900872019913035\n",
      "0.9815470919027071\n",
      "0.1736507766608871\n",
      "0.1566237288530973\n",
      "0.06404554394700719\n",
      "0.9965825470812527\n",
      "0.9946123548253075\n",
      "0.15080482234995016\n",
      "0.002905481614604018\n",
      "0.9974129576919369\n",
      "0.9945602433398343\n",
      "0.9431566964001353\n",
      "0.28893757057184016\n",
      "0.9964374617704156\n",
      "0.312421713688748\n",
      "0.8271513855454453\n",
      "0.9944150571913642\n",
      "0.7508100969508094\n",
      "0.2966517049000885\n",
      "0.9965508093933476\n",
      "0.9731271558127944\n",
      "0.9995934059508652\n",
      "0.9049769577860817\n",
      "0.017007248834701418\n",
      "0.012321843054302216\n",
      "0.005212477628872374\n",
      "0.9993660347571082\n",
      "0.9775738463254542\n",
      "0.16652689443942406\n",
      "0.9987182325701007\n",
      "0.1399718149047699\n",
      "0.5566653805691316\n",
      "0.02022818832178124\n",
      "0.9212613733672025\n",
      "0.9914914953428192\n",
      "0.5945096889809818\n",
      "0.9933001536120514\n",
      "0.012129166949525396\n",
      "0.0026385441065994936\n",
      "0.999333797062934\n",
      "0.9967895385835346\n",
      "0.9904765734862025\n",
      "0.9973450563311967\n",
      "0.8716636392315901\n",
      "0.994375046551762\n",
      "0.0009732372377542876\n",
      "0.10081090682750753\n",
      "0.9958576326211039\n",
      "0.9835352653358564\n",
      "0.003160443940731296\n",
      "0.08097127303890009\n",
      "0.998883260048757\n",
      "0.9047652908296778\n",
      "0.9969254931928017\n",
      "0.43603992681604925\n",
      "0.5525953905422241\n",
      "0.9991383771312947\n",
      "0.9912465058127011\n",
      "0.9984170196795128\n",
      "0.00709209697563468\n",
      "0.9934692892693543\n",
      "0.9808090726606068\n",
      "0.20599166257123877\n",
      "0.08768519621264009\n",
      "0.21140439819999973\n",
      "0.055301415074352864\n",
      "0.9981524069770579\n",
      "0.648903963127802\n",
      "0.006281681281284306\n",
      "0.9961670520873883\n",
      "0.388001857626968\n",
      "0.6238614861970914\n",
      "0.8237198975301782\n",
      "0.995757345827197\n",
      "0.01168919907999189\n",
      "0.4343988341116093\n",
      "0.9793927848628636\n",
      "0.008741986566639335\n",
      "0.004509254270395872\n",
      "0.16256156389454005\n",
      "0.9828448688124064\n",
      "0.010809591366958124\n",
      "0.5206189102537294\n",
      "0.9971355543518664\n",
      "0.9887716282842757\n",
      "0.39671587004462266\n",
      "0.09530085742050973\n",
      "0.017192440629504775\n",
      "0.37205041114351084\n",
      "0.5537559477485351\n",
      "0.9870553623216557\n",
      "0.9764518424203942\n",
      "0.469619169610851\n",
      "0.736162567781507\n",
      "0.027481799284498377\n",
      "0.9982506798128085\n",
      "0.913021779572703\n",
      "0.8996810119080576\n",
      "0.9928900114914193\n",
      "0.9164659353227472\n",
      "0.9997294034119902\n",
      "0.10439425037904944\n",
      "0.9990253645774307\n",
      "0.5616795563548973\n",
      "0.13528286832757286\n",
      "0.013779846515007993\n",
      "0.9996254356480941\n",
      "0.04024142247108748\n",
      "0.9938007498590006\n",
      "0.95449130322484\n",
      "0.23837099240627752\n",
      "0.3778431014269457\n",
      "0.9063049738008184\n",
      "0.9940988362329971\n",
      "0.9900674048108368\n",
      "0.5702729616997513\n",
      "0.007868579825723114\n",
      "0.9369358179134163\n",
      "0.9630556342215933\n",
      "0.994114106818669\n",
      "0.6659772375400571\n",
      "0.9823091565669312\n",
      "0.9995272798680572\n",
      "0.9904595615709317\n",
      "0.9726927937980758\n",
      "0.837936940376499\n",
      "0.9995993842774041\n",
      "0.11442196546687443\n",
      "0.9974009043764918\n",
      "0.7328984556478157\n",
      "0.2401362354797818\n",
      "0.9114146560504276\n",
      "0.308084033123607\n",
      "0.07011018764165933\n",
      "0.9994607117110564\n",
      "0.9485281267928879\n",
      "0.9981449306713379\n",
      "0.9969813460321407\n",
      "0.9990723593622752\n",
      "0.9960542726523948\n",
      "0.9981783674048806\n",
      "0.6150735540598458\n",
      "0.993472683790684\n",
      "0.9630218930385811\n",
      "0.9994727353753678\n",
      "0.05245234430956244\n",
      "0.911964677487951\n",
      "0.8204282851961119\n",
      "0.006710057469539175\n",
      "0.7322951635888751\n",
      "0.946853800096371\n",
      "0.5015000551503351\n",
      "0.9945866823863075\n",
      "0.07072844075252868\n",
      "0.002457612945234186\n",
      "0.9477141525051366\n",
      "0.01033633717745431\n",
      "0.5242084901286808\n",
      "0.006818987318568559\n",
      "0.9861293764306375\n",
      "0.9909094337464169\n",
      "0.11528369089818884\n",
      "0.02075565702758405\n",
      "0.9762604238729897\n",
      "0.905359752026504\n",
      "0.038234998155576565\n",
      "0.9845386576377442\n",
      "0.8586261412169586\n",
      "0.149314689658902\n",
      "0.5096207787024096\n",
      "0.9986173864164557\n",
      "0.648715161309053\n",
      "0.27353466636460344\n",
      "0.8195924180986952\n",
      "0.9986247630595659\n",
      "0.9986609045143093\n",
      "0.975720951437089\n",
      "0.14010341725043796\n",
      "0.9897925970732225\n",
      "0.997200195846169\n",
      "0.47834792765473405\n",
      "0.9893253268970121\n",
      "0.09083021789320858\n",
      "0.9914930445008773\n",
      "0.40944126765864997\n",
      "0.878030523736932\n",
      "0.033104097445053854\n",
      "0.2199541526489891\n",
      "0.08199221764875818\n",
      "0.99624946698051\n",
      "0.09043653543037018\n",
      "0.9850708123007864\n",
      "0.9680166577221013\n",
      "0.015792769421990434\n",
      "0.9927641619672808\n",
      "0.6842059713871889\n",
      "0.8349837324757539\n",
      "0.0584532037635486\n",
      "0.9736920672388243\n",
      "0.9993852366883453\n",
      "0.5800995927304832\n",
      "0.9880401550130711\n",
      "0.9699911052908095\n",
      "0.9917650273348255\n",
      "0.012449963194301564\n",
      "0.05140530597947013\n",
      "0.40728486090035493\n",
      "0.991901071176563\n",
      "0.9996433879683532\n",
      "0.9567175265694339\n",
      "0.011566467875289421\n",
      "0.9965516710303975\n",
      "0.6095044870222328\n",
      "0.8724497931851343\n",
      "0.993098144376355\n",
      "0.9988834397956139\n",
      "0.5848217375548116\n",
      "0.9994701154929009\n",
      "0.019963122870160197\n",
      "0.05985487243217188\n",
      "0.9994900782752884\n",
      "0.8330875068363636\n",
      "0.9618563524420433\n",
      "0.9995096545576636\n",
      "0.9979562072320484\n",
      "0.03364813902874044\n",
      "0.9685967191800311\n",
      "0.48481744930565684\n",
      "0.34206585475198675\n",
      "0.004108246896820407\n",
      "0.5183655523197723\n",
      "0.3461432445103762\n",
      "0.9975445196717678\n",
      "0.9981226471625362\n",
      "0.9277773348333005\n",
      "0.9989550426296796\n",
      "0.005449516686990243\n",
      "0.6908040768449824\n",
      "0.9862968303232834\n",
      "0.9899945885439262\n",
      "0.9994414918383863\n",
      "0.7411702887626008\n",
      "0.6591493347876441\n",
      "0.012422990548289221\n",
      "0.9967588304264844\n",
      "0.009059812560119732\n",
      "0.016194674637494973\n",
      "0.009240827487657527\n",
      "0.36869818862734294\n",
      "0.8229762196938653\n",
      "0.9994660933696465\n",
      "0.9968594657923807\n",
      "0.9210557717608033\n",
      "0.03584300106827462\n",
      "0.8382359219056078\n",
      "0.3006783736700629\n",
      "0.09223535965834452\n",
      "0.9914843970404535\n",
      "0.6899983556178139\n",
      "0.008335119386211112\n",
      "0.9968448714819916\n",
      "0.9403465921862967\n",
      "0.9417715794486857\n",
      "0.5531164136674305\n",
      "0.0690606391111516\n",
      "0.8830618503424004\n",
      "0.004923497600045414\n",
      "0.9959622682104777\n",
      "0.9529356554090426\n",
      "0.035644393419005244\n",
      "0.9890649312357237\n",
      "0.9804645260589095\n",
      "0.0042562818697595055\n",
      "0.9899555814544485\n",
      "0.9782345289109331\n",
      "0.10237572688855733\n",
      "0.03273016055386231\n",
      "0.9832711005335132\n",
      "0.10968124787446396\n",
      "0.9993176735807475\n",
      "0.7629681797999052\n",
      "0.9882210787179909\n",
      "0.7073629971001815\n",
      "0.5491866127275333\n",
      "0.9206871164888603\n",
      "0.9643437517024621\n",
      "0.6273697031688829\n",
      "0.007790642690181907\n",
      "0.9971871590691468\n",
      "0.9993663005222263\n",
      "0.9926810556508856\n",
      "0.9978610353229859\n",
      "0.9860668096215632\n",
      "0.12658190711300304\n",
      "0.9808357186170117\n",
      "0.9443090154057702\n",
      "0.0061128458844816845\n",
      "0.14834737270434117\n",
      "0.0006363257585436224\n",
      "0.5476077947003243\n",
      "0.9218260324443024\n",
      "0.022111355436642215\n",
      "0.012271960189811337\n",
      "0.49430229472555737\n",
      "0.998533032635373\n",
      "0.9656801726676549\n",
      "0.9982634515201799\n",
      "0.9991536864097836\n",
      "0.8270865666181119\n",
      "0.9783209960329787\n",
      "0.4859767243008432\n",
      "0.9979988593286301\n",
      "0.9997088558330545\n",
      "0.8791542085351042\n",
      "0.9915135742820396\n",
      "0.9940990235537501\n",
      "0.9771444583634585\n",
      "0.9328012254975724\n",
      "0.9561930162892929\n",
      "0.4688936540096477\n",
      "0.9995998984974493\n",
      "0.9984967665660401\n",
      "0.8280156894017686\n",
      "0.4794726814380767\n",
      "0.0015458106584966215\n",
      "0.0016902696277600895\n",
      "0.9194836238789696\n",
      "0.8126941425429977\n",
      "0.7122092602791825\n",
      "0.9964486600956891\n",
      "0.013522464595365621\n",
      "0.21005053704347143\n",
      "0.23443384088404806\n",
      "0.004032914837155388\n",
      "0.9884105184126193\n",
      "0.9779117535330593\n",
      "0.011368176313545194\n",
      "0.9623784038785037\n",
      "0.005509966638659042\n",
      "0.5867631584898909\n",
      "0.9986864364330789\n",
      "0.03306651906011833\n",
      "0.002507606510555836\n",
      "0.2854444997142147\n",
      "0.2706373513623258\n",
      "0.9871900432384704\n",
      "0.9946071392935103\n",
      "0.9898139254185594\n",
      "0.020123201812104224\n",
      "0.09798586283085695\n",
      "0.9909529764267813\n",
      "0.9817429846081562\n",
      "0.9657168859320028\n",
      "0.12576081198884229\n",
      "0.9285573204977031\n",
      "0.0738110163300596\n",
      "0.8588027080572195\n",
      "0.549806953323403\n",
      "0.9982247343287651\n",
      "0.9566593380101832\n",
      "0.9966808853763336\n",
      "0.2664156184088343\n",
      "0.015180268537698521\n",
      "0.960718654201345\n",
      "0.21048891830038302\n",
      "0.943023733500067\n",
      "0.07829734587317179\n",
      "0.99912615445475\n",
      "0.7110960281566878\n",
      "0.004224400578024098\n",
      "0.7783877305968118\n",
      "0.96190339258659\n",
      "0.36803876518238615\n",
      "0.985179555741498\n",
      "0.0737467411227103\n",
      "0.06326979289241239\n",
      "0.9949503947702851\n",
      "0.9237667240159504\n",
      "0.999642254286599\n",
      "0.9291776733597868\n",
      "0.48349335827205797\n",
      "0.9984378377179227\n",
      "0.9926365146443383\n",
      "0.9980821858869366\n",
      "0.9930430350602426\n",
      "0.9713745952308596\n",
      "0.02364079825959472\n",
      "0.8290201298045751\n",
      "0.3555430788257951\n",
      "0.1880161214857131\n",
      "0.1986877873512511\n",
      "0.9189593144638155\n",
      "0.01170707504121274\n",
      "0.9930423166366235\n",
      "0.998283444118723\n",
      "0.017658323539182123\n",
      "0.9333412175116366\n",
      "0.9996052093375182\n",
      "0.578382982829647\n",
      "0.9974042198065941\n",
      "0.9795197198940371\n",
      "0.6874894115212427\n",
      "0.004574646720926472\n",
      "0.5521147218901953\n",
      "0.19757399881155152\n",
      "0.9918969439244449\n",
      "0.9994469504745519\n",
      "0.014487012891688073\n",
      "0.0036771538283767295\n",
      "0.9246531811075691\n",
      "0.0016913897247933843\n",
      "0.694774626264429\n",
      "0.816820323135943\n",
      "0.024613206195169574\n",
      "0.9211840779912174\n",
      "0.8470342756940088\n",
      "0.6019841624770568\n",
      "0.3533210393704149\n",
      "0.4039279051958433\n",
      "0.022390994353380295\n",
      "0.093141462870019\n",
      "0.9881782100716554\n",
      "0.9719756554018537\n",
      "0.9239377959823808\n",
      "0.2514029999412716\n",
      "0.9880241527763383\n",
      "0.9849554840248188\n",
      "0.9914523597890479\n",
      "0.02522834855546024\n",
      "0.9950008650900953\n",
      "0.7323400212951816\n",
      "0.9970453941347279\n",
      "0.39651249580931264\n",
      "0.9962627867697217\n",
      "0.9628103699845545\n",
      "0.9958372973291729\n",
      "0.0801509628153033\n",
      "0.9994635657459909\n",
      "0.04532608225902073\n",
      "0.9951699835117392\n",
      "0.014692295653509074\n",
      "0.999667301704253\n",
      "0.01766947493979778\n",
      "0.3988856759909062\n",
      "0.7118745515401145\n",
      "0.9928172572803684\n",
      "0.25230262613869203\n",
      "0.007908835887698697\n",
      "0.9768174631649276\n",
      "0.005186318269631049\n",
      "0.998641501596673\n",
      "0.9396329666411076\n",
      "0.991711342137327\n",
      "0.45131791962061485\n",
      "0.42956100746887593\n",
      "0.0751581509958614\n",
      "0.11896111635573627\n",
      "0.9964134775139071\n",
      "0.9973807334046385\n",
      "0.9432876139521448\n",
      "0.6935829056678819\n",
      "0.025126872259840338\n",
      "0.8468963125308339\n",
      "0.9833260762708855\n",
      "0.9837223274724496\n",
      "0.998896024224659\n",
      "0.0022065903033857254\n",
      "0.008840877066674293\n",
      "0.5059319500023554\n",
      "0.058225415985071645\n",
      "0.6863144414813277\n",
      "0.9988363105330808\n",
      "0.20053500373632416\n",
      "0.9984738866346468\n",
      "0.18701921927276483\n",
      "0.8703770961644034\n",
      "0.48588423333115766\n",
      "0.9988844413126112\n",
      "0.9866786326623017\n",
      "0.9997610968793433\n",
      "0.2188629509729205\n",
      "0.9918671590579139\n",
      "0.9987581544522546\n",
      "0.0874392003937817\n",
      "0.6892312360606254\n",
      "0.9764303947112365\n",
      "0.9783952279837503\n",
      "0.710783556485613\n"
     ]
    },
    {
     "name": "stdout",
     "output_type": "stream",
     "text": [
      "0.6957407968231653\n",
      "0.9996258122941074\n",
      "0.07861449616899334\n",
      "0.6409633510035746\n",
      "0.9141927070784007\n",
      "0.9897496354713986\n",
      "0.9921279179158249\n",
      "0.9614562881470892\n",
      "0.9962882008075308\n",
      "0.9814535639493632\n",
      "0.03004493398196996\n",
      "0.9097935518340344\n",
      "0.9991656601110792\n",
      "0.931795363880311\n",
      "0.9995251184361382\n",
      "0.6604073962929402\n",
      "0.9911254122024975\n",
      "0.9964001735028555\n",
      "0.9945543553753122\n",
      "0.26584657977603254\n",
      "0.997897648479271\n",
      "0.2424998744401613\n",
      "0.743072358449937\n",
      "0.9991091940226816\n",
      "0.9856769934027119\n",
      "0.9991241779013965\n",
      "0.18955554960214113\n",
      "0.9687546056613713\n",
      "0.2338027061911193\n",
      "0.968020955963247\n",
      "0.8027631870307183\n",
      "0.9831647845385401\n",
      "0.7837858188260218\n",
      "0.9898943393362077\n",
      "0.9993306257040666\n",
      "0.993591461733135\n",
      "0.9884872632706082\n",
      "0.15654017853328078\n",
      "0.4440248223412919\n",
      "0.3281346161393482\n",
      "0.7903913944640806\n",
      "0.13454298131544068\n",
      "0.7835220346645971\n",
      "0.9271640624617203\n",
      "0.9312977207750267\n",
      "0.01232994666365847\n",
      "0.47892256165110014\n",
      "0.750938657809614\n",
      "0.009568689018020052\n",
      "0.9802440465102354\n",
      "0.9938845923439086\n",
      "0.009435532214572898\n",
      "0.018199018091946167\n",
      "0.0043126878799719034\n",
      "0.9843103373666915\n",
      "0.4319916128300727\n",
      "0.06723067130578551\n",
      "0.9885567985473993\n",
      "0.014743047496003988\n",
      "0.997656118405875\n",
      "0.9995214410943826\n",
      "0.9995557500961539\n",
      "0.9854434242113159\n",
      "0.004720369986671871\n",
      "0.9909647713069643\n",
      "0.04802143704095613\n",
      "0.1351434602868755\n",
      "0.12043038092295232\n",
      "0.900466052227501\n",
      "0.16496032013335624\n",
      "0.9988111292135403\n",
      "0.003113072534945173\n",
      "0.8605739653547344\n",
      "0.9959783941302539\n",
      "0.8580116462294828\n",
      "0.6055786921631773\n",
      "0.8063713889869545\n",
      "0.0905156087816497\n",
      "0.9885735976164903\n",
      "0.006017053315781534\n",
      "0.999493362215279\n",
      "0.9975645914819311\n",
      "0.9034594813696969\n",
      "0.9996535182950087\n",
      "0.4977294754708399\n",
      "0.0030033114163766565\n",
      "0.9640278086072991\n",
      "0.865817622415371\n",
      "0.09120996438804017\n",
      "0.9305356842822508\n",
      "0.996196038704408\n",
      "0.02083487111486082\n",
      "0.9939916281129008\n",
      "0.9885624394641017\n",
      "0.3164651157512347\n",
      "0.9881317044588698\n",
      "0.9909291497415093\n",
      "0.5759881250761707\n",
      "0.9996491775392213\n",
      "0.9613335110774005\n",
      "0.9275605021735233\n",
      "0.0025363977519004093\n",
      "0.3609642605957772\n",
      "0.12987025166961028\n",
      "0.04873503230930759\n",
      "0.5819194412760238\n",
      "0.9252480818676792\n"
     ]
    }
   ],
   "source": [
    "for prediction in y_pred_lgb:\n",
    "    print(prediction)"
   ]
  },
  {
   "cell_type": "code",
   "execution_count": 130,
   "id": "c2471ff2",
   "metadata": {
    "ExecuteTime": {
     "end_time": "2022-03-06T04:37:12.798880Z",
     "start_time": "2022-03-06T04:37:12.788901Z"
    }
   },
   "outputs": [],
   "source": [
    "#rounding the values\n",
    "y_pred_lgb=y_pred_lgb.round(0)\n",
    "#converting from float to integer\n",
    "y_pred_lgb=y_pred_lgb.astype(int)"
   ]
  },
  {
   "cell_type": "code",
   "execution_count": 131,
   "id": "9049e255",
   "metadata": {
    "ExecuteTime": {
     "end_time": "2022-03-06T04:37:13.527942Z",
     "start_time": "2022-03-06T04:37:13.509988Z"
    }
   },
   "outputs": [
    {
     "data": {
      "text/plain": [
       "array([[ 641,   71],\n",
       "       [  50, 1238]], dtype=int64)"
      ]
     },
     "execution_count": 131,
     "metadata": {},
     "output_type": "execute_result"
    }
   ],
   "source": [
    "confusion_matrix(y_test, y_pred_lgb)"
   ]
  },
  {
   "cell_type": "code",
   "execution_count": 132,
   "id": "472800ad",
   "metadata": {
    "ExecuteTime": {
     "end_time": "2022-03-06T04:37:17.486840Z",
     "start_time": "2022-03-06T04:37:17.465865Z"
    }
   },
   "outputs": [
    {
     "data": {
      "text/plain": [
       "0.9307305115500035"
      ]
     },
     "execution_count": 132,
     "metadata": {},
     "output_type": "execute_result"
    }
   ],
   "source": [
    "#roc_auc_score metric\n",
    "roc_auc_score(y_test,y_pred_lgb)"
   ]
  },
  {
   "cell_type": "code",
   "execution_count": 133,
   "id": "3fc9860d",
   "metadata": {
    "ExecuteTime": {
     "end_time": "2022-03-06T04:37:18.785839Z",
     "start_time": "2022-03-06T04:37:18.766924Z"
    }
   },
   "outputs": [
    {
     "data": {
      "text/plain": [
       "0.9395"
      ]
     },
     "execution_count": 133,
     "metadata": {},
     "output_type": "execute_result"
    }
   ],
   "source": [
    "accuracy_score(y_test,y_pred_lgb)"
   ]
  },
  {
   "cell_type": "code",
   "execution_count": 149,
   "id": "d8cf2f01",
   "metadata": {
    "ExecuteTime": {
     "end_time": "2022-03-06T12:37:25.927009Z",
     "start_time": "2022-03-06T12:37:25.670980Z"
    }
   },
   "outputs": [
    {
     "data": {
      "text/plain": [
       "Text(0, 0.5, 'True positive rate')"
      ]
     },
     "execution_count": 149,
     "metadata": {},
     "output_type": "execute_result"
    },
    {
     "data": {
      "image/png": "[encoded data removed]",
      "text/plain": [
       "<Figure size 432x288 with 1 Axes>"
      ]
     },
     "metadata": {
      "needs_background": "light"
     },
     "output_type": "display_data"
    }
   ],
   "source": [
    "fpr, tpr, thresholds = roc_curve(y_test, y_pred_lgb, pos_label=1)\n",
    "\n",
    "auc = roc_auc_score(y_test, y_pred_lgb)\n",
    "\n",
    "fig, ax = plt.subplots()\n",
    "ax.plot(fpr, tpr)\n",
    "ax.plot([0, 1], [0, 1], color='navy', linestyle='--', label='random')\n",
    "plt.title(f'AUC: {auc}')\n",
    "ax.set_xlabel('False positive rate')\n",
    "ax.set_ylabel('True positive rate')"
   ]
  },
  {
   "cell_type": "markdown",
   "id": "78ad971b",
   "metadata": {},
   "source": [
    "new ext"
   ]
  },
  {
   "cell_type": "code",
   "execution_count": 161,
   "id": "aed0dc22",
   "metadata": {
    "ExecuteTime": {
     "end_time": "2022-03-06T18:03:27.225778Z",
     "start_time": "2022-03-06T18:03:25.012538Z"
    }
   },
   "outputs": [
    {
     "name": "stderr",
     "output_type": "stream",
     "text": [
      "[Parallel(n_jobs=-1)]: Using backend LokyBackend with 8 concurrent workers.\n",
      "[Parallel(n_jobs=-1)]: Done   2 out of   5 | elapsed:    2.1s remaining:    3.2s\n",
      "[Parallel(n_jobs=-1)]: Done   5 out of   5 | elapsed:    2.1s finished\n"
     ]
    },
    {
     "data": {
      "text/plain": [
       "array([0.759375, 0.756875, 0.73875 , 0.763125, 0.740625])"
      ]
     },
     "execution_count": 161,
     "metadata": {},
     "output_type": "execute_result"
    }
   ],
   "source": [
    "etc2 = ExtraTreeClassifier()\n",
    "#etc2.fit(X_normal_train,y_train)\n",
    "#y_pred_etc = etc2.predict(X_normal_test)\n",
    "\n",
    "from sklearn.model_selection import cross_val_score\n",
    "scores = cross_val_score(etc2, X_normal_train, y_train, cv= 5 , scoring = 'accuracy', \n",
    "                         n_jobs = -1, verbose = 1)\n",
    "scores"
   ]
  },
  {
   "cell_type": "code",
   "execution_count": 160,
   "id": "0b86ece6",
   "metadata": {
    "ExecuteTime": {
     "end_time": "2022-03-06T17:23:08.755649Z",
     "start_time": "2022-03-06T17:23:08.741656Z"
    }
   },
   "outputs": [
    {
     "data": {
      "text/plain": [
       "0.7472500000000001"
      ]
     },
     "execution_count": 160,
     "metadata": {},
     "output_type": "execute_result"
    }
   ],
   "source": [
    "scores.mean()"
   ]
  },
  {
   "cell_type": "code",
   "execution_count": null,
   "id": "e651b85c",
   "metadata": {},
   "outputs": [],
   "source": []
  }
 ],
 "metadata": {
  "kernelspec": {
   "display_name": "Python 3 (ipykernel)",
   "language": "python",
   "name": "python3"
  },
  "language_info": {
   "codemirror_mode": {
    "name": "ipython",
    "version": 3
   },
   "file_extension": ".py",
   "mimetype": "text/x-python",
   "name": "python",
   "nbconvert_exporter": "python",
   "pygments_lexer": "ipython3",
   "version": "3.9.7"
  },
  "toc": {
   "base_numbering": 1,
   "nav_menu": {},
   "number_sections": true,
   "sideBar": true,
   "skip_h1_title": false,
   "title_cell": "Table of Contents",
   "title_sidebar": "Contents",
   "toc_cell": false,
   "toc_position": {},
   "toc_section_display": true,
   "toc_window_display": false
  }
 },
 "nbformat": 4,
 "nbformat_minor": 5
}
